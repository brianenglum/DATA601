{
  "cells": [
    {
      "cell_type": "markdown",
      "metadata": {
        "id": "view-in-github",
        "colab_type": "text"
      },
      "source": [
        "<a href=\"https://colab.research.google.com/github/tsnow2010/DATA601/blob/main/Copy_of_DATA601_Notes.ipynb\" target=\"_parent\"><img src=\"https://colab.research.google.com/assets/colab-badge.svg\" alt=\"Open In Colab\"/></a>"
      ]
    },
    {
      "cell_type": "markdown",
      "id": "864ca524-1868-4fa5-b139-82ac7a066087",
      "metadata": {
        "id": "864ca524-1868-4fa5-b139-82ac7a066087"
      },
      "source": [
        "# DATA 601 Notes\n",
        "\n",
        "# Week 1\n",
        "\n",
        "* Tests will be mulitple-choice.\n",
        "\n",
        "* 3-4 people/group (for projects)\n",
        "\n",
        "* Oral tests will cover homework that YOU have submitted.\n",
        "\n",
        "* What is the 25% of the class will be selected.  *What are the chances that you won't get it at all?  How about for all three?  How about at least once?*\n",
        "\n",
        "* Graduate Grader/Tutor position during the semester!  Can start at *Semester 3, but APPLY during Semester 2!!!*\n",
        "\n",
        "* Project 1: Make group, find topic, find API.  _There is ONE PROJECT, with (3) cumulative deliverables._\n",
        "\n",
        "* Car sales POST-COVID (2019-2021)\n",
        "\n",
        "* Electric car sales vs gasoline vehicles from 2018-Present, is it picking up, slowing down, or stagnant.\n",
        "\n",
        "* Go to W3Schools and research OOP-related topics.\n",
        "\n",
        "* ''' signals a block of comments!  use another ''' to\n",
        "\n",
        "* !pip install names - use this line in Notebook to install extra packages.\n",
        "\n",
        "## Week Two"
      ]
    },
    {
      "cell_type": "code",
      "source": [
        "# import for generating random integers\n",
        "from random import randint\n",
        "# generates random integer from 0 to 20\n",
        "randint(0,20)"
      ],
      "metadata": {
        "id": "akenBk_3ND4J",
        "outputId": "d1615603-3d66-4826-aa6e-6b11ebdcff81",
        "colab": {
          "base_uri": "https://localhost:8080/"
        }
      },
      "id": "akenBk_3ND4J",
      "execution_count": null,
      "outputs": [
        {
          "output_type": "execute_result",
          "data": {
            "text/plain": [
              "19"
            ]
          },
          "metadata": {},
          "execution_count": 2
        }
      ]
    },
    {
      "cell_type": "code",
      "source": [
        "# If you want to make an expression return a string, eval() is a useful function.\n",
        "\n",
        "# Notice I'm passing a str, but really, I'm passing an arg that is executed and then turned to a str.\n",
        "print(eval('sum([8,9])'))"
      ],
      "metadata": {
        "id": "pEXMrm-8OxVY",
        "outputId": "4399a499-14d0-4ee2-8b30-48ce9ff574ea",
        "colab": {
          "base_uri": "https://localhost:8080/"
        }
      },
      "id": "pEXMrm-8OxVY",
      "execution_count": null,
      "outputs": [
        {
          "output_type": "stream",
          "name": "stdout",
          "text": [
            "17\n"
          ]
        }
      ]
    },
    {
      "cell_type": "code",
      "source": [
        "# Here's another way to do the something similar as format().\n",
        "\n",
        "x = 3.789\n",
        "y = 6.4322\n",
        "\n",
        "# Notice formating\n",
        "print('%f / %f = %f' % (x, y, x/y))"
      ],
      "metadata": {
        "id": "wI4eeciwQv6K",
        "outputId": "b5389810-3796-4997-d547-9d89bff0b98f",
        "colab": {
          "base_uri": "https://localhost:8080/"
        }
      },
      "id": "wI4eeciwQv6K",
      "execution_count": null,
      "outputs": [
        {
          "output_type": "stream",
          "name": "stdout",
          "text": [
            "3.789000 / 6.432200 = 0.589068\n"
          ]
        }
      ]
    },
    {
      "cell_type": "code",
      "source": [
        "# The zip() function can be hard to work.  But just know that the corresponding values are paired in a tuple (i1, i2).\n",
        "\n",
        "a = ['John', 'Sarah', 'Terminator']\n",
        "b = ['Connor', 'Connor', 'T1000']\n",
        "\n",
        "# z is a <zip class>\n",
        "z = zip(a,b)\n",
        "\n",
        "# Now, convert to a dict.\n",
        "name_dict = {}\n",
        "\n",
        "# You can iterate through the zip class with a for loop and work on tuples inside.\n",
        "\n",
        "# For instance:\n",
        "for names in z:\n",
        "  name_dict[names[0]] = names[1]\n",
        "\n",
        "print(name_dict)\n",
        "\n",
        "\n",
        "\n",
        "\n"
      ],
      "metadata": {
        "id": "0TkPXwnrTjWI",
        "outputId": "452ea7e0-ff1e-4d78-bac9-0dadece94b43",
        "colab": {
          "base_uri": "https://localhost:8080/"
        }
      },
      "id": "0TkPXwnrTjWI",
      "execution_count": null,
      "outputs": [
        {
          "output_type": "stream",
          "name": "stdout",
          "text": [
            "{'John': 'Connor', 'Sarah': 'Connor', 'Terminator': 'T1000'}\n"
          ]
        }
      ]
    },
    {
      "cell_type": "code",
      "source": [
        "# You can turn an iterable object, such as a list, dictionary, etc. into an <iterable class> and use various functions.\n",
        "\n",
        "a = [3,4,5]\n",
        "b = iter(a)\n",
        "\n",
        "for i in range(5):\n",
        "  print(next(b,\"missing\"))\n",
        "\n",
        "# next() attribute stores the \"i\" in an iterable"
      ],
      "metadata": {
        "id": "k8wfYNBrVB0R",
        "outputId": "dd3af3d1-9bcc-4c63-8519-01f551ec3137",
        "colab": {
          "base_uri": "https://localhost:8080/"
        }
      },
      "id": "k8wfYNBrVB0R",
      "execution_count": null,
      "outputs": [
        {
          "output_type": "stream",
          "name": "stdout",
          "text": [
            "3\n",
            "4\n",
            "5\n",
            "missing\n",
            "missing\n"
          ]
        }
      ]
    },
    {
      "cell_type": "code",
      "source": [
        "# Note that sort() and sorted() are different in a few ways:\n",
        "# (1) sort() does a natural sorting AND modifies original, i.e. its an \"attributive method\"\n",
        "# (2) sorted() returns a modified version but doesn't effect original\n",
        "# (3) sorted() can sort based on a function YOU provide *lambdas work well here*\n",
        "\n",
        "song_words = ['hello', 'my', 'friend']\n",
        "print(sorted(song_words, key = lambda x: len(x)*2 ))\n",
        "song_words.sort()\n",
        "print(song_words)"
      ],
      "metadata": {
        "id": "XkYk3bOWV-DO",
        "outputId": "082e6648-6e2f-439e-b061-d781d2a7e9dc",
        "colab": {
          "base_uri": "https://localhost:8080/"
        }
      },
      "id": "XkYk3bOWV-DO",
      "execution_count": null,
      "outputs": [
        {
          "output_type": "stream",
          "name": "stdout",
          "text": [
            "['my', 'hello', 'friend']\n",
            "['friend', 'hello', 'my']\n"
          ]
        }
      ]
    }
  ],
  "metadata": {
    "kernelspec": {
      "display_name": "Python 3 (ipykernel)",
      "language": "python",
      "name": "python3"
    },
    "language_info": {
      "codemirror_mode": {
        "name": "ipython",
        "version": 3
      },
      "file_extension": ".py",
      "mimetype": "text/x-python",
      "name": "python",
      "nbconvert_exporter": "python",
      "pygments_lexer": "ipython3",
      "version": "3.12.4"
    },
    "colab": {
      "provenance": [],
      "include_colab_link": true
    }
  },
  "nbformat": 4,
  "nbformat_minor": 5
}