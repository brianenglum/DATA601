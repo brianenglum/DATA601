{
  "cells": [
    {
      "cell_type": "markdown",
      "metadata": {
        "id": "view-in-github",
        "colab_type": "text"
      },
      "source": [
        "<a href=\"https://colab.research.google.com/github/tsnow2010/DATA601/blob/main/DATA601_Notes.ipynb\" target=\"_parent\"><img src=\"https://colab.research.google.com/assets/colab-badge.svg\" alt=\"Open In Colab\"/></a>"
      ]
    },
    {
      "cell_type": "markdown",
      "id": "864ca524-1868-4fa5-b139-82ac7a066087",
      "metadata": {
        "id": "864ca524-1868-4fa5-b139-82ac7a066087"
      },
      "source": [
        "# DATA 601 Notes\n",
        "\n",
        "* Tests will be mulitple-choice.\n",
        "\n",
        "* 3-4 people/group (for projects)\n",
        "\n",
        "* Oral tests will cover homework that YOU have submitted.\n",
        "\n",
        "* What is the 25% of the class will be selected.  *What are the chances that you won't get it at all?  How about for all three?  How about at least once?*\n",
        "\n",
        "* Graduate Grader/Tutor position during the semester!  Can start at *Semester 3, but APPLY during Semester 2!!!*\n",
        "\n",
        "* Project 1: Make group, find topic, find API.  _There is ONE PROJECT, with (3) cumulative deliverables._\n",
        "\n",
        "* Car sales POST-COVID (2019-2021)\n",
        "\n",
        "* Electric car sales vs gasoline vehicles from 2018-Present, is it picking up, slowing down, or stagnant.\n",
        "\n",
        "* Go to W3Schools and research OOP-related topics.\n",
        "\n",
        "* ''' signals a block of comments!  use another ''' to\n",
        "\n",
        "* !pip install names - use this line in Notebook to install extra packages.\n",
        "  "
      ]
    }
  ],
  "metadata": {
    "kernelspec": {
      "display_name": "Python 3 (ipykernel)",
      "language": "python",
      "name": "python3"
    },
    "language_info": {
      "codemirror_mode": {
        "name": "ipython",
        "version": 3
      },
      "file_extension": ".py",
      "mimetype": "text/x-python",
      "name": "python",
      "nbconvert_exporter": "python",
      "pygments_lexer": "ipython3",
      "version": "3.12.4"
    },
    "colab": {
      "provenance": [],
      "include_colab_link": true
    }
  },
  "nbformat": 4,
  "nbformat_minor": 5
}