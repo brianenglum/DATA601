{
 "cells": [
  {
   "cell_type": "markdown",
   "id": "7194de83-717c-4b29-9fd4-706fed697a66",
   "metadata": {},
   "source": [
    "- Numpy : ndarrays, numpy dot (dot product), slicing arrays and different ways of addressing (extracting) row and columns in 2d arrays. Matmul (matrix multiplication) and @, transpose (or T)\n",
    "- Remember the rules for matrix multiplication (correct dimensions for matrix multiplication, and how to figure out the correct dimensions of the end product of matrix multiplication)\n",
    "- Regular expressions (brush up your knowledge of the regex notebook)\n",
    "- Pandas basics, different ways to access rows and columns (simple indexing using square brackets, loc, iloc, at, iat)\n",
    "- Pandas creating dataframes from series and dictionaries\n",
    "- Vector and Matrix Norms, how to compute them (1,2 and infinity for vectors. 1, frobenius, and infinity norms for matrices)\n",
    "- Eigenvalues and Eigenvectors (how to detect if a given value and vector is an eigenvalue and eigenvector for a given matrix)"
   ]
  },
  {
   "cell_type": "markdown",
   "id": "f3236a8a-529d-434b-926b-4e99b6e990ca",
   "metadata": {},
   "source": [
    "# Numpy"
   ]
  },
  {
   "cell_type": "code",
   "execution_count": 3,
   "id": "920d8adf-8844-41a8-a77f-39983ce75780",
   "metadata": {},
   "outputs": [
    {
     "name": "stdout",
     "output_type": "stream",
     "text": [
      "14\n"
     ]
    }
   ],
   "source": [
    "import numpy as np\n",
    "\n",
    "# Dot product is between (2) vectors, and one example in physics is force x dist = work\n",
    " \n",
    "array1 = np.array([1,2,3])\n",
    "array2 = np.array([1,2,3])\n",
    "\n",
    "print(np.dot(array1,array2))\n"
   ]
  },
  {
   "attachments": {
    "db9f0e6c-6aa1-4d72-b88d-e4b4b2546ffe.png": {
     "image/png": "[encoded data removed]"
    }
   },
   "cell_type": "markdown",
   "id": "7b7ca8ba-2174-4744-b4dd-37c64925e63d",
   "metadata": {},
   "source": [
    "### Dot product\n",
    "![Screenshot 2024-10-27 at 12.41.36 PM.png](attachment:db9f0e6c-6aa1-4d72-b88d-e4b4b2546ffe.png)"
   ]
  },
  {
   "cell_type": "code",
   "execution_count": 5,
   "id": "a1038429-db0c-4d01-80a6-785cc0b4ad9c",
   "metadata": {},
   "outputs": [
    {
     "data": {
      "text/plain": [
       "array([[ 3,  3, 19, 15, 13],\n",
       "       [18, 19, 18,  6,  4],\n",
       "       [ 1, 19,  7,  9, 12],\n",
       "       [ 9, 16,  3, 10, 14],\n",
       "       [ 4,  1, 10,  7, 18]])"
      ]
     },
     "execution_count": 5,
     "metadata": {},
     "output_type": "execute_result"
    }
   ],
   "source": [
    "# Creates a random 5x5 matrix\n",
    "array3 = np.random.randint(1,20,25).reshape((5,5))\n",
    "array3"
   ]
  },
  {
   "cell_type": "code",
   "execution_count": 6,
   "id": "036d3196-f2c5-49b2-8ca8-6c3b3bf1b56a",
   "metadata": {},
   "outputs": [
    {
     "data": {
      "text/plain": [
       "numpy.ndarray"
      ]
     },
     "execution_count": 6,
     "metadata": {},
     "output_type": "execute_result"
    }
   ],
   "source": [
    "type(array3)"
   ]
  },
  {
   "cell_type": "code",
   "execution_count": 7,
   "id": "caa4422a-b0ef-45af-b203-8a133096d5d6",
   "metadata": {},
   "outputs": [
    {
     "data": {
      "text/plain": [
       "array([[1, 2, 3],\n",
       "       [3, 4, 5],\n",
       "       [6, 7, 8]])"
      ]
     },
     "execution_count": 7,
     "metadata": {},
     "output_type": "execute_result"
    }
   ],
   "source": [
    "# Creating 2d array (3x3) manually:\n",
    "array11 = np.array([[1,2,3],[3,4,5],[6,7,8]])\n",
    "array11"
   ]
  },
  {
   "cell_type": "code",
   "execution_count": null,
   "id": "8d9231f9-f170-48f3-acd4-5f0992c32549",
   "metadata": {},
   "outputs": [],
   "source": []
  },
  {
   "cell_type": "code",
   "execution_count": null,
   "id": "aba0c654-3016-4e4a-9172-871a6fab31de",
   "metadata": {},
   "outputs": [],
   "source": []
  },
  {
   "cell_type": "markdown",
   "id": "3b289489-8ec5-41b2-8921-7d371a71df64",
   "metadata": {},
   "source": [
    "### Addressing and extracting rows and columns via splicing"
   ]
  },
  {
   "cell_type": "code",
   "execution_count": 9,
   "id": "e479af1e-c30d-4204-96bc-cd92e3909aa2",
   "metadata": {},
   "outputs": [
    {
     "data": {
      "text/plain": [
       "array([ 3, 19, 19, 16,  1])"
      ]
     },
     "execution_count": 9,
     "metadata": {},
     "output_type": "execute_result"
    }
   ],
   "source": [
    "array3[:,1] # Returns all rows of column 2"
   ]
  },
  {
   "cell_type": "code",
   "execution_count": 10,
   "id": "568be656-4136-4b92-b030-06e33df98e90",
   "metadata": {},
   "outputs": [
    {
     "data": {
      "text/plain": [
       "array([ 9, 16,  3, 10, 14])"
      ]
     },
     "execution_count": 10,
     "metadata": {},
     "output_type": "execute_result"
    }
   ],
   "source": [
    "array3[3,:] # Returns all columns of row 4"
   ]
  },
  {
   "cell_type": "code",
   "execution_count": 11,
   "id": "c4b74aa6-0786-4271-84cd-f2941dc8a692",
   "metadata": {},
   "outputs": [
    {
     "data": {
      "text/plain": [
       "array([7, 9])"
      ]
     },
     "execution_count": 11,
     "metadata": {},
     "output_type": "execute_result"
    }
   ],
   "source": [
    "# Splice out [17,18]\n",
    "array3[2,2:4] # Remember, the element in index (2,4) is not included."
   ]
  },
  {
   "cell_type": "markdown",
   "id": "906ae94e-ed6d-4d98-928b-5f18d9884b81",
   "metadata": {},
   "source": [
    "### Issues with splicing with multiple brackets:"
   ]
  },
  {
   "cell_type": "code",
   "execution_count": 13,
   "id": "8d67ef72-a8f3-423a-9c2a-ab0f12038725",
   "metadata": {},
   "outputs": [
    {
     "data": {
      "text/plain": [
       "array([18, 19, 18,  6,  4])"
      ]
     },
     "execution_count": 13,
     "metadata": {},
     "output_type": "execute_result"
    }
   ],
   "source": [
    "# Numpy doesn't splice with multiple square brackets.\n",
    "# Notice how the (2) operations below do the same thing.  \n",
    "\n",
    "array3[:][1]"
   ]
  },
  {
   "cell_type": "code",
   "execution_count": 14,
   "id": "ab57f3b9-fd68-405c-81ff-03fbf06bf92d",
   "metadata": {},
   "outputs": [
    {
     "data": {
      "text/plain": [
       "array([18, 19, 18,  6,  4])"
      ]
     },
     "execution_count": 14,
     "metadata": {},
     "output_type": "execute_result"
    }
   ],
   "source": [
    "array3[1][:] # Returns all of row 2 again?"
   ]
  },
  {
   "cell_type": "code",
   "execution_count": 15,
   "id": "a8adc4f5-9639-488c-91df-c2c7a8b7ad5b",
   "metadata": {},
   "outputs": [],
   "source": [
    "# Basically, numpy is only reading the first integer and associating it with \"rows,\" regardless of its positioning."
   ]
  },
  {
   "cell_type": "code",
   "execution_count": 16,
   "id": "f204b60d-7df2-4737-bbb0-a4a7b327c734",
   "metadata": {},
   "outputs": [
    {
     "data": {
      "text/plain": [
       "array([18, 19, 18,  6,  4])"
      ]
     },
     "execution_count": 16,
     "metadata": {},
     "output_type": "execute_result"
    }
   ],
   "source": [
    "array3[1][:][:]"
   ]
  },
  {
   "cell_type": "code",
   "execution_count": 17,
   "id": "e180cd1a-c409-4a1f-9b6f-a42862e3d7cf",
   "metadata": {},
   "outputs": [
    {
     "data": {
      "text/plain": [
       "array([18, 19, 18,  6,  4])"
      ]
     },
     "execution_count": 17,
     "metadata": {},
     "output_type": "execute_result"
    }
   ],
   "source": [
    "array3[1]"
   ]
  },
  {
   "cell_type": "code",
   "execution_count": 18,
   "id": "047aede2-e093-4d8c-b49a-e937261a4de7",
   "metadata": {},
   "outputs": [],
   "source": [
    "# Numpy just ignores the semicolon!"
   ]
  },
  {
   "cell_type": "code",
   "execution_count": 83,
   "id": "b01e857e-29de-4241-a6fe-10ce1181c18f",
   "metadata": {},
   "outputs": [
    {
     "data": {
      "text/plain": [
       "19"
      ]
     },
     "execution_count": 83,
     "metadata": {},
     "output_type": "execute_result"
    }
   ],
   "source": [
    "array3[1][1] # This works though for returning a single cell."
   ]
  },
  {
   "cell_type": "code",
   "execution_count": 85,
   "id": "64015b4a-30be-4e90-8fb1-e384147218fd",
   "metadata": {},
   "outputs": [
    {
     "data": {
      "text/plain": [
       "array([18, 19])"
      ]
     },
     "execution_count": 85,
     "metadata": {},
     "output_type": "execute_result"
    }
   ],
   "source": [
    "array3[1][0:2] # This works too for returning a multiple cells."
   ]
  },
  {
   "cell_type": "markdown",
   "id": "13dbcbed-a5bb-4b13-9dc5-440bab3d0d17",
   "metadata": {},
   "source": [
    "### Matrix Multiplication \n",
    "- If A x B, columns A MUST EQUAL rows B.\n",
    "- Use .shape and .size for dimensions.\n",
    "  - .shape returns (rows,columns)\n",
    "  - .size returns total number of elements (rows x columns)"
   ]
  },
  {
   "cell_type": "code",
   "execution_count": 20,
   "id": "a4fc45b3-d2ed-44f8-beb9-edaa9690c91d",
   "metadata": {},
   "outputs": [
    {
     "name": "stdout",
     "output_type": "stream",
     "text": [
      "[[327 624 333 725 648 371 544]\n",
      " [377 729 433 743 875 574 679]\n",
      " [321 661 434 418 605 473 558]\n",
      " [313 718 401 469 696 411 502]\n",
      " [286 497 267 451 509 256 392]] \n",
      "\n",
      "[[327 624 333 725 648 371 544]\n",
      " [377 729 433 743 875 574 679]\n",
      " [321 661 434 418 605 473 558]\n",
      " [313 718 401 469 696 411 502]\n",
      " [286 497 267 451 509 256 392]]\n"
     ]
    }
   ],
   "source": [
    "array4 = np.random.randint(1,20,35).reshape((5,7))\n",
    "\n",
    "print(np.matmul(array3,array4),'\\n')\n",
    "# OR this way\n",
    "print(array3 @ array4)"
   ]
  },
  {
   "cell_type": "code",
   "execution_count": 87,
   "id": "d321a8bf-1ad3-4faa-acce-a9ad9116b307",
   "metadata": {},
   "outputs": [
    {
     "name": "stdout",
     "output_type": "stream",
     "text": [
      "(5, 7)\n",
      "35\n"
     ]
    }
   ],
   "source": [
    "print(array4.shape) # Returns (5,7))\n",
    "print(array4.size) # Returns 5x5 = 35)"
   ]
  },
  {
   "cell_type": "code",
   "execution_count": null,
   "id": "0acda2fe-3be3-4107-9aa1-0188d99956c6",
   "metadata": {},
   "outputs": [],
   "source": []
  },
  {
   "cell_type": "markdown",
   "id": "bef2d35b-db22-4735-9003-13da86f34cab",
   "metadata": {},
   "source": [
    "#### Transpose\n",
    "- Below are all (3) ways to transpose a matrix:"
   ]
  },
  {
   "cell_type": "code",
   "execution_count": 23,
   "id": "fef57ff7-b0ce-48c1-b636-ad92f864e710",
   "metadata": {},
   "outputs": [
    {
     "name": "stdout",
     "output_type": "stream",
     "text": [
      "[[ 3  3 19 15 13]\n",
      " [18 19 18  6  4]\n",
      " [ 1 19  7  9 12]\n",
      " [ 9 16  3 10 14]\n",
      " [ 4  1 10  7 18]] \n",
      "\n"
     ]
    },
    {
     "data": {
      "text/plain": [
       "array([[ 3, 18,  1,  9,  4],\n",
       "       [ 3, 19, 19, 16,  1],\n",
       "       [19, 18,  7,  3, 10],\n",
       "       [15,  6,  9, 10,  7],\n",
       "       [13,  4, 12, 14, 18]])"
      ]
     },
     "execution_count": 23,
     "metadata": {},
     "output_type": "execute_result"
    }
   ],
   "source": [
    "print(array3,'\\n')\n",
    "array3.T"
   ]
  },
  {
   "cell_type": "code",
   "execution_count": 24,
   "id": "0d02b88d-24f7-40af-939a-2b1863b64f73",
   "metadata": {},
   "outputs": [
    {
     "data": {
      "text/plain": [
       "array([[ 3, 18,  1,  9,  4],\n",
       "       [ 3, 19, 19, 16,  1],\n",
       "       [19, 18,  7,  3, 10],\n",
       "       [15,  6,  9, 10,  7],\n",
       "       [13,  4, 12, 14, 18]])"
      ]
     },
     "execution_count": 24,
     "metadata": {},
     "output_type": "execute_result"
    }
   ],
   "source": [
    "array3.transpose()"
   ]
  },
  {
   "cell_type": "code",
   "execution_count": 25,
   "id": "53433a0e-f99e-41fc-913c-b71a401456b6",
   "metadata": {},
   "outputs": [
    {
     "data": {
      "text/plain": [
       "array([[ 3, 18,  1,  9,  4],\n",
       "       [ 3, 19, 19, 16,  1],\n",
       "       [19, 18,  7,  3, 10],\n",
       "       [15,  6,  9, 10,  7],\n",
       "       [13,  4, 12, 14, 18]])"
      ]
     },
     "execution_count": 25,
     "metadata": {},
     "output_type": "execute_result"
    }
   ],
   "source": [
    "array3.swapaxes(0,1)"
   ]
  },
  {
   "cell_type": "code",
   "execution_count": 89,
   "id": "d94aaa2f-907b-4940-bf17-0453a02813ed",
   "metadata": {},
   "outputs": [
    {
     "data": {
      "text/plain": [
       "array([[ 3,  3, 19, 15, 13],\n",
       "       [18, 19, 18,  6,  4],\n",
       "       [ 1, 19,  7,  9, 12],\n",
       "       [ 9, 16,  3, 10, 14],\n",
       "       [ 4,  1, 10,  7, 18]])"
      ]
     },
     "execution_count": 89,
     "metadata": {},
     "output_type": "execute_result"
    }
   ],
   "source": [
    "array3.swapaxes(0,0) # No change."
   ]
  },
  {
   "cell_type": "code",
   "execution_count": 91,
   "id": "60f32cd7-d92b-4610-90f9-b2e99baaff68",
   "metadata": {},
   "outputs": [
    {
     "data": {
      "text/plain": [
       "array([[ 3, 18,  1,  9,  4],\n",
       "       [ 3, 19, 19, 16,  1],\n",
       "       [19, 18,  7,  3, 10],\n",
       "       [15,  6,  9, 10,  7],\n",
       "       [13,  4, 12, 14, 18]])"
      ]
     },
     "execution_count": 91,
     "metadata": {},
     "output_type": "execute_result"
    }
   ],
   "source": [
    "array3.swapaxes(1,0) # Another way to get transpose."
   ]
  },
  {
   "cell_type": "markdown",
   "id": "ef0f3489-cf24-454d-9a0c-73b7cb82bdd8",
   "metadata": {},
   "source": [
    "## Pandas"
   ]
  },
  {
   "cell_type": "markdown",
   "id": "08694016-51e3-4885-bce7-b482cd406449",
   "metadata": {},
   "source": [
    "### Create a Series and Dataframe"
   ]
  },
  {
   "cell_type": "code",
   "execution_count": 28,
   "id": "52b1af88-7193-4d0c-b7c9-a4f97be745b5",
   "metadata": {},
   "outputs": [
    {
     "data": {
      "text/html": [
       "<div>\n",
       "<style scoped>\n",
       "    .dataframe tbody tr th:only-of-type {\n",
       "        vertical-align: middle;\n",
       "    }\n",
       "\n",
       "    .dataframe tbody tr th {\n",
       "        vertical-align: top;\n",
       "    }\n",
       "\n",
       "    .dataframe thead th {\n",
       "        text-align: right;\n",
       "    }\n",
       "</style>\n",
       "<table border=\"1\" class=\"dataframe\">\n",
       "  <thead>\n",
       "    <tr style=\"text-align: right;\">\n",
       "      <th></th>\n",
       "      <th>Pay</th>\n",
       "      <th>Married?</th>\n",
       "      <th>YOS</th>\n",
       "    </tr>\n",
       "  </thead>\n",
       "  <tbody>\n",
       "    <tr>\n",
       "      <th>Joe</th>\n",
       "      <td>60000</td>\n",
       "      <td>Y</td>\n",
       "      <td>5</td>\n",
       "    </tr>\n",
       "    <tr>\n",
       "      <th>Jade</th>\n",
       "      <td>65000</td>\n",
       "      <td>N</td>\n",
       "      <td>0</td>\n",
       "    </tr>\n",
       "    <tr>\n",
       "      <th>Jonathan</th>\n",
       "      <td>60000</td>\n",
       "      <td>Y</td>\n",
       "      <td>7</td>\n",
       "    </tr>\n",
       "  </tbody>\n",
       "</table>\n",
       "</div>"
      ],
      "text/plain": [
       "            Pay Married?  YOS\n",
       "Joe       60000        Y    5\n",
       "Jade      65000        N    0\n",
       "Jonathan  60000        Y    7"
      ]
     },
     "execution_count": 28,
     "metadata": {},
     "output_type": "execute_result"
    }
   ],
   "source": [
    "import pandas as pd\n",
    "\n",
    "#### Series \n",
    "\n",
    "pay = pd.Series({'Joe':60000,'Jade':65000,'Jonathan':60000})\n",
    "marital_stat = pd.Series({'Joe':'Y','Jade':'N','Jonathan':'Y'})\n",
    "years_service = pd.Series({'Joe':5,'Jade':0,'Jonathan':7})\n",
    "\n",
    "employee_df = pd.DataFrame({'Pay':pay, 'Married?':marital_stat,'YOS':years_service})\n",
    "\n",
    "# Works because all Series have the same indexing.  Notices that the dictionary format swaps when going from Series to DataFrame.\n",
    "# Key goes from being the index to being a column in a DataFrame.\n",
    "employee_df\n",
    "\n"
   ]
  },
  {
   "cell_type": "code",
   "execution_count": 115,
   "id": "eecf464f-eec7-4eea-afc3-f9f2e8690e6b",
   "metadata": {},
   "outputs": [
    {
     "data": {
      "text/html": [
       "<div>\n",
       "<style scoped>\n",
       "    .dataframe tbody tr th:only-of-type {\n",
       "        vertical-align: middle;\n",
       "    }\n",
       "\n",
       "    .dataframe tbody tr th {\n",
       "        vertical-align: top;\n",
       "    }\n",
       "\n",
       "    .dataframe thead th {\n",
       "        text-align: right;\n",
       "    }\n",
       "</style>\n",
       "<table border=\"1\" class=\"dataframe\">\n",
       "  <thead>\n",
       "    <tr style=\"text-align: right;\">\n",
       "      <th></th>\n",
       "      <th>A</th>\n",
       "      <th>B</th>\n",
       "      <th>C</th>\n",
       "      <th>D</th>\n",
       "      <th>E</th>\n",
       "      <th>F</th>\n",
       "    </tr>\n",
       "  </thead>\n",
       "  <tbody>\n",
       "    <tr>\n",
       "      <th>0</th>\n",
       "      <td>-0.843306</td>\n",
       "      <td>0.083859</td>\n",
       "      <td>0.413020</td>\n",
       "      <td>1.226958</td>\n",
       "      <td>-0.325418</td>\n",
       "      <td>0.547702</td>\n",
       "    </tr>\n",
       "    <tr>\n",
       "      <th>1</th>\n",
       "      <td>0.026640</td>\n",
       "      <td>-1.054740</td>\n",
       "      <td>-0.120291</td>\n",
       "      <td>0.425118</td>\n",
       "      <td>0.247027</td>\n",
       "      <td>0.757155</td>\n",
       "    </tr>\n",
       "    <tr>\n",
       "      <th>2</th>\n",
       "      <td>0.680415</td>\n",
       "      <td>-0.879465</td>\n",
       "      <td>1.940978</td>\n",
       "      <td>0.154664</td>\n",
       "      <td>-0.411868</td>\n",
       "      <td>1.168578</td>\n",
       "    </tr>\n",
       "    <tr>\n",
       "      <th>3</th>\n",
       "      <td>0.287405</td>\n",
       "      <td>0.518229</td>\n",
       "      <td>-0.073613</td>\n",
       "      <td>1.741705</td>\n",
       "      <td>0.637215</td>\n",
       "      <td>-0.025357</td>\n",
       "    </tr>\n",
       "    <tr>\n",
       "      <th>4</th>\n",
       "      <td>0.577604</td>\n",
       "      <td>-0.207255</td>\n",
       "      <td>0.732236</td>\n",
       "      <td>0.282118</td>\n",
       "      <td>-0.107310</td>\n",
       "      <td>-0.055979</td>\n",
       "    </tr>\n",
       "    <tr>\n",
       "      <th>5</th>\n",
       "      <td>-1.757881</td>\n",
       "      <td>-1.092061</td>\n",
       "      <td>-0.094516</td>\n",
       "      <td>-0.910834</td>\n",
       "      <td>-0.355541</td>\n",
       "      <td>0.575418</td>\n",
       "    </tr>\n",
       "  </tbody>\n",
       "</table>\n",
       "</div>"
      ],
      "text/plain": [
       "          A         B         C         D         E         F\n",
       "0 -0.843306  0.083859  0.413020  1.226958 -0.325418  0.547702\n",
       "1  0.026640 -1.054740 -0.120291  0.425118  0.247027  0.757155\n",
       "2  0.680415 -0.879465  1.940978  0.154664 -0.411868  1.168578\n",
       "3  0.287405  0.518229 -0.073613  1.741705  0.637215 -0.025357\n",
       "4  0.577604 -0.207255  0.732236  0.282118 -0.107310 -0.055979\n",
       "5 -1.757881 -1.092061 -0.094516 -0.910834 -0.355541  0.575418"
      ]
     },
     "execution_count": 115,
     "metadata": {},
     "output_type": "execute_result"
    }
   ],
   "source": [
    "# A few other ways to make randomized matrices\n",
    "\n",
    "# Method 1\n",
    "df_rand = pd.DataFrame(np.random.randn(6,6),index=np.arange(0,6,1),columns=['A','B','C','D','E','F',])\n",
    "df_rand"
   ]
  },
  {
   "cell_type": "code",
   "execution_count": 117,
   "id": "f05f0efc-1ea9-4ac8-b364-8e3a7a5a25f9",
   "metadata": {},
   "outputs": [
    {
     "data": {
      "text/html": [
       "<div>\n",
       "<style scoped>\n",
       "    .dataframe tbody tr th:only-of-type {\n",
       "        vertical-align: middle;\n",
       "    }\n",
       "\n",
       "    .dataframe tbody tr th {\n",
       "        vertical-align: top;\n",
       "    }\n",
       "\n",
       "    .dataframe thead th {\n",
       "        text-align: right;\n",
       "    }\n",
       "</style>\n",
       "<table border=\"1\" class=\"dataframe\">\n",
       "  <thead>\n",
       "    <tr style=\"text-align: right;\">\n",
       "      <th></th>\n",
       "      <th>A</th>\n",
       "      <th>B</th>\n",
       "      <th>C</th>\n",
       "      <th>D</th>\n",
       "      <th>E</th>\n",
       "      <th>F</th>\n",
       "    </tr>\n",
       "  </thead>\n",
       "  <tbody>\n",
       "    <tr>\n",
       "      <th>0</th>\n",
       "      <td>23</td>\n",
       "      <td>9</td>\n",
       "      <td>29</td>\n",
       "      <td>4</td>\n",
       "      <td>17</td>\n",
       "      <td>1</td>\n",
       "    </tr>\n",
       "    <tr>\n",
       "      <th>1</th>\n",
       "      <td>0</td>\n",
       "      <td>24</td>\n",
       "      <td>12</td>\n",
       "      <td>14</td>\n",
       "      <td>13</td>\n",
       "      <td>24</td>\n",
       "    </tr>\n",
       "    <tr>\n",
       "      <th>2</th>\n",
       "      <td>0</td>\n",
       "      <td>23</td>\n",
       "      <td>26</td>\n",
       "      <td>8</td>\n",
       "      <td>9</td>\n",
       "      <td>17</td>\n",
       "    </tr>\n",
       "    <tr>\n",
       "      <th>3</th>\n",
       "      <td>13</td>\n",
       "      <td>0</td>\n",
       "      <td>2</td>\n",
       "      <td>26</td>\n",
       "      <td>18</td>\n",
       "      <td>29</td>\n",
       "    </tr>\n",
       "    <tr>\n",
       "      <th>4</th>\n",
       "      <td>21</td>\n",
       "      <td>26</td>\n",
       "      <td>15</td>\n",
       "      <td>26</td>\n",
       "      <td>18</td>\n",
       "      <td>5</td>\n",
       "    </tr>\n",
       "    <tr>\n",
       "      <th>5</th>\n",
       "      <td>1</td>\n",
       "      <td>21</td>\n",
       "      <td>16</td>\n",
       "      <td>25</td>\n",
       "      <td>18</td>\n",
       "      <td>25</td>\n",
       "    </tr>\n",
       "  </tbody>\n",
       "</table>\n",
       "</div>"
      ],
      "text/plain": [
       "    A   B   C   D   E   F\n",
       "0  23   9  29   4  17   1\n",
       "1   0  24  12  14  13  24\n",
       "2   0  23  26   8   9  17\n",
       "3  13   0   2  26  18  29\n",
       "4  21  26  15  26  18   5\n",
       "5   1  21  16  25  18  25"
      ]
     },
     "execution_count": 117,
     "metadata": {},
     "output_type": "execute_result"
    }
   ],
   "source": [
    "# Method 2\n",
    "\n",
    "df_rand2 = pd.DataFrame(np.random.randint(0,30,36).reshape(6,6),index=np.arange(0,6,1),columns=['A','B','C','D','E','F',])\n",
    "df_rand2"
   ]
  },
  {
   "cell_type": "markdown",
   "id": "e4362462-59ac-4000-90f7-a8436af26128",
   "metadata": {},
   "source": [
    "### Accessing columns and rows"
   ]
  },
  {
   "cell_type": "markdown",
   "id": "328257c1-bbc0-4be0-ae17-502edd51c795",
   "metadata": {},
   "source": [
    "##### Remember that Pandas focuses on **accessing COLUMNS**:"
   ]
  },
  {
   "cell_type": "code",
   "execution_count": 31,
   "id": "71af0400-4c59-4277-b60b-516479190479",
   "metadata": {},
   "outputs": [
    {
     "data": {
      "text/plain": [
       "Joe         60000\n",
       "Jade        65000\n",
       "Jonathan    60000\n",
       "Name: Pay, dtype: int64"
      ]
     },
     "execution_count": 31,
     "metadata": {},
     "output_type": "execute_result"
    }
   ],
   "source": [
    "employee_df['Pay']"
   ]
  },
  {
   "cell_type": "code",
   "execution_count": 32,
   "id": "b3f5f1e1-ecd9-4d13-b387-1cb6a652a9aa",
   "metadata": {},
   "outputs": [
    {
     "data": {
      "text/plain": [
       "Joe         60000\n",
       "Jade        65000\n",
       "Jonathan    60000\n",
       "Name: Pay, dtype: int64"
      ]
     },
     "execution_count": 32,
     "metadata": {},
     "output_type": "execute_result"
    }
   ],
   "source": [
    "# Each column is also an attribute!\n",
    "employee_df.Pay"
   ]
  },
  {
   "cell_type": "markdown",
   "id": "aefdc153-2492-4f0d-be65-de70107cc4b0",
   "metadata": {},
   "source": [
    "##### To access rows, **you MUST have a colon**, *even if it is only *ONE* row!*"
   ]
  },
  {
   "cell_type": "code",
   "execution_count": 34,
   "id": "4a53391a-aef9-4917-ba4b-9987e14b0b12",
   "metadata": {},
   "outputs": [
    {
     "name": "stdout",
     "output_type": "stream",
     "text": [
      "       Pay Married?  YOS\n",
      "Joe  60000        Y    5 \n",
      "\n",
      "        Pay Married?  YOS\n",
      "Joe   60000        Y    5\n",
      "Jade  65000        N    0\n"
     ]
    }
   ],
   "source": [
    "print(employee_df['Joe':'Joe'],'\\n') \n",
    "\n",
    "print(employee_df['Joe':'Jade'])"
   ]
  },
  {
   "cell_type": "code",
   "execution_count": 35,
   "id": "d71fe41b-30c8-45d5-aa6a-b6938043763f",
   "metadata": {},
   "outputs": [
    {
     "name": "stdout",
     "output_type": "stream",
     "text": [
      "Joe     60000\n",
      "Jade    65000\n",
      "Name: Pay, dtype: int64\n",
      "Joe    60000\n",
      "Name: Pay, dtype: int64\n"
     ]
    }
   ],
   "source": [
    "# There's a traditional [row][columns] format as well.\n",
    "\n",
    "# But again, it won't work if there is no colon!\n",
    "print(employee_df['Joe':'Jade']['Pay'])\n",
    "\n",
    "#print(employee_df['Joe']['Pay']) # THROWS ERROR\n",
    "print(employee_df['Joe':'Joe']['Pay']) # Again, \"same request\" but doesn't throw an error."
   ]
  },
  {
   "cell_type": "code",
   "execution_count": 36,
   "id": "68ce9468-6331-4bc9-bb98-a024b6019411",
   "metadata": {},
   "outputs": [
    {
     "name": "stdout",
     "output_type": "stream",
     "text": [
      "60000\n",
      "60000\n",
      "<class 'numpy.int64'>\n"
     ]
    },
    {
     "name": "stderr",
     "output_type": "stream",
     "text": [
      "/var/folders/yx/32mlh_nx5ns6v1zmf7rs6l8h0000gn/T/ipykernel_1270/4242755102.py:7: FutureWarning: Series.__getitem__ treating keys as positions is deprecated. In a future version, integer keys will always be treated as labels (consistent with DataFrame behavior). To access a value by position, use `ser.iloc[pos]`\n",
      "  print(employee_df['Pay'][0])\n"
     ]
    }
   ],
   "source": [
    "# If you want a cell, try these ways:\n",
    "\n",
    "# Notice all return the type contained in the cell.\n",
    "\n",
    "print(employee_df['Pay']['Joe'])\n",
    "\n",
    "print(employee_df['Pay'][0])\n",
    "\n",
    "print(type(employee_df['Pay']['Joe']))\n",
    "\n",
    "# print(employee_df[0][0]) WILL GIVE ERROR!"
   ]
  },
  {
   "cell_type": "markdown",
   "id": "60a9dfb3-356f-47d5-86b7-1ef89444daeb",
   "metadata": {},
   "source": [
    "##### .at/.iat/.loc/.iloc\n",
    "- Think of these functions as making Dataframes focus on rows then columns, working backwards from pandas' default."
   ]
  },
  {
   "cell_type": "code",
   "execution_count": 95,
   "id": "ffd4eb39-71c6-466a-8fff-87199cf4902f",
   "metadata": {},
   "outputs": [
    {
     "name": "stdout",
     "output_type": "stream",
     "text": [
      "Pay         60000\n",
      "Married?        Y\n",
      "YOS             5\n",
      "Name: Joe, dtype: object \n",
      "\n",
      "Pay         60000\n",
      "Married?        Y\n",
      "YOS             5\n",
      "Name: Joe, dtype: object \n",
      "\n",
      "60000 \n",
      "\n",
      "60000 \n",
      "\n",
      "<class 'numpy.int64'>\n",
      "<class 'int'>\n"
     ]
    }
   ],
   "source": [
    "# With loc/iloc, you can use [row][column] OR [row,column].  Either way ROW comes first.\n",
    "\n",
    "print(employee_df.loc['Joe'],'\\n')\n",
    "print(employee_df.iloc[0],'\\n')\n",
    "\n",
    "print(employee_df.loc['Joe']['Pay'],'\\n')\n",
    "print(employee_df.iloc[0,0],'\\n')\n",
    "\n",
    "print(type(employee_df.loc['Joe']['Pay'])) # Which type is it before casting? (A numpy 64-bit int)\n",
    "print(type(int(employee_df.loc['Joe']['Pay']))) # We have successfully pulled a cell out and made it an int!\n"
   ]
  },
  {
   "cell_type": "code",
   "execution_count": 39,
   "id": "bc892bda-c6a3-4a9a-ae8e-c50cc1de8cbe",
   "metadata": {},
   "outputs": [
    {
     "name": "stdout",
     "output_type": "stream",
     "text": [
      "65000 \n",
      "\n",
      "65000 \n",
      "\n"
     ]
    }
   ],
   "source": [
    "# With at/iat, you MUST use [row,column] format as well. \n",
    "\n",
    "# THESE are faster than loc methods for accessing a scalar.\n",
    "\n",
    "print(employee_df.at['Jade','Pay'],'\\n')\n",
    "print(employee_df.iat[1, 0],'\\n')"
   ]
  },
  {
   "attachments": {
    "c1cc20b7-2768-45bc-880a-2764183a3302.png": {
     "image/png": "[encoded data removed]"
    }
   },
   "cell_type": "markdown",
   "id": "745883d7-bec5-4a0a-8427-d62be4fd04c5",
   "metadata": {},
   "source": [
    "### Vectors and Norms\n",
    "- 1,2 and infinity for vectors\n",
    "- 1, frobenius, and infinity norms for matrices)\n",
    "\n",
    "- ![Screenshot 2024-10-28 at 11.31.42 AM.png](attachment:c1cc20b7-2768-45bc-880a-2764183a3302.png)"
   ]
  },
  {
   "cell_type": "code",
   "execution_count": 41,
   "id": "8a1e6307-c1a0-4ab0-b8f4-5bd684bf0a60",
   "metadata": {},
   "outputs": [
    {
     "data": {
      "text/plain": [
       "array([2, 4, 7])"
      ]
     },
     "execution_count": 41,
     "metadata": {},
     "output_type": "execute_result"
    }
   ],
   "source": [
    "v1 = array11[:,1]\n",
    "v1"
   ]
  },
  {
   "cell_type": "code",
   "execution_count": 42,
   "id": "21e73c1a-02eb-4251-96da-db0bc1a3eaf5",
   "metadata": {},
   "outputs": [
    {
     "name": "stdout",
     "output_type": "stream",
     "text": [
      "13.0\n",
      "8.306623862918075\n",
      "7.0\n"
     ]
    }
   ],
   "source": [
    "# Norms for vectors\n",
    "print(np.linalg.norm(v1,1)) # Should be 13\n",
    "print(np.linalg.norm(v1,2)) # Should be sqrt(69)\n",
    "print(np.linalg.norm(v1, np.inf)) # Should be 7"
   ]
  },
  {
   "cell_type": "code",
   "execution_count": 121,
   "id": "d9acd457-f2e5-4f03-b35b-9f7f3573c1df",
   "metadata": {},
   "outputs": [],
   "source": [
    "array14 = [[1,2,3],[4,5,6],[7,8,9]]"
   ]
  },
  {
   "cell_type": "code",
   "execution_count": 123,
   "id": "e4f9d065-6655-4970-96e9-a522540fb83d",
   "metadata": {},
   "outputs": [
    {
     "name": "stdout",
     "output_type": "stream",
     "text": [
      "18.0\n",
      "16.881943016134134\n",
      "24.0\n"
     ]
    }
   ],
   "source": [
    "# Norms for matrices\n",
    "print(np.linalg.norm(array14,1)) # Should be 18\n",
    "print(np.linalg.norm(array14,'fro')) # Should be sqrt(285)\n",
    "print(np.linalg.norm(array14,np.inf)) # Should be 24"
   ]
  },
  {
   "cell_type": "code",
   "execution_count": 141,
   "id": "5db1bc44-54c0-4ff7-aece-ff0e165decac",
   "metadata": {},
   "outputs": [
    {
     "data": {
      "text/plain": [
       "16.881943016134134"
      ]
     },
     "execution_count": 141,
     "metadata": {},
     "output_type": "execute_result"
    }
   ],
   "source": [
    "import math\n",
    "sum = 0\n",
    "for i in range(1,10):\n",
    "    sum += i**2\n",
    "math.sqrt(sum)"
   ]
  },
  {
   "cell_type": "markdown",
   "id": "872069cd-7d41-4839-9086-71ae379e35cb",
   "metadata": {},
   "source": [
    "### Eigenvectors and values\n",
    "- Eigenvalues and Eigenvectors (how to detect if a given value and vector is an eigenvalue and eigenvector for a given matrix)"
   ]
  },
  {
   "cell_type": "code",
   "execution_count": 46,
   "id": "854c33ad-ea5f-4235-9c1d-ff9145471373",
   "metadata": {},
   "outputs": [
    {
     "name": "stdout",
     "output_type": "stream",
     "text": [
      "[[-6  3]\n",
      " [ 4  5]]\n",
      "[-7.  6.]\n",
      "[[-0.9486833  -0.24253563]\n",
      " [ 0.31622777 -0.9701425 ]]\n"
     ]
    }
   ],
   "source": [
    "# Ax = lambda(x)\n",
    "# (A-lambdaI)x = 0\n",
    "\n",
    "test = np.array([[-6,3],[4,5]])\n",
    "eigenval, eigenvect = np.linalg.eig(test)\n",
    "\n",
    "print(test)\n",
    "print(eigenval)\n",
    "print(eigenvect)\n"
   ]
  },
  {
   "cell_type": "code",
   "execution_count": 47,
   "id": "e569fda0-3dda-430a-b818-a49cdb6cb9e9",
   "metadata": {},
   "outputs": [
    {
     "name": "stdout",
     "output_type": "stream",
     "text": [
      "First\n",
      "[ 6.64078309 -2.21359436]\n",
      "[ 6.64078309 -2.21359436]\n",
      "Second\n",
      "[-1.45521375 -5.820855  ]\n",
      "[-1.45521375 -5.820855  ]\n"
     ]
    }
   ],
   "source": [
    "# Eigenvectors\n",
    "e_v1 = eigenvect[:,0]\n",
    "e_v2 = eigenvect[:,1]\n",
    "\n",
    "# Test first pair of eigenvalues and eigenvectors\n",
    "print('First')\n",
    "print(np.matmul(test,e_v1))\n",
    "print(eigenval[0]*e_v1)\n",
    "\n",
    "print('Second')\n",
    "# Test second pair of eigenvalues and eigenvectors\n",
    "print(np.matmul(test,e_v2))\n",
    "print(eigenval[1]*e_v2)"
   ]
  },
  {
   "cell_type": "code",
   "execution_count": 155,
   "id": "2f6c4164-dbf6-47e4-bb44-45d187b4edc2",
   "metadata": {},
   "outputs": [
    {
     "data": {
      "text/plain": [
       "array([0., 0.])"
      ]
     },
     "execution_count": 155,
     "metadata": {},
     "output_type": "execute_result"
    }
   ],
   "source": [
    "# Alternatively:\n",
    "# See if (A-lambdaI)x = 0\n",
    "\n",
    "print((test-(eigenval[1]*np.identity(2)))@e_v2) # It works!"
   ]
  },
  {
   "cell_type": "code",
   "execution_count": 151,
   "id": "8eb3d84a-90ce-49e5-afbe-cc0970d10c67",
   "metadata": {},
   "outputs": [
    {
     "data": {
      "text/plain": [
       "array([[1., 0.],\n",
       "       [0., 1.]])"
      ]
     },
     "execution_count": 151,
     "metadata": {},
     "output_type": "execute_result"
    }
   ],
   "source": []
  },
  {
   "cell_type": "code",
   "execution_count": null,
   "id": "cd8490d9-04f2-4d40-9aee-406bc641249a",
   "metadata": {},
   "outputs": [],
   "source": []
  }
 ],
 "metadata": {
  "kernelspec": {
   "display_name": "Python 3 (ipykernel)",
   "language": "python",
   "name": "python3"
  },
  "language_info": {
   "codemirror_mode": {
    "name": "ipython",
    "version": 3
   },
   "file_extension": ".py",
   "mimetype": "text/x-python",
   "name": "python",
   "nbconvert_exporter": "python",
   "pygments_lexer": "ipython3",
   "version": "3.12.4"
  }
 },
 "nbformat": 4,
 "nbformat_minor": 5
}
