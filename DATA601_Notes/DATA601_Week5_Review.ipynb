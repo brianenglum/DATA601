{
  "cells": [
    {
      "cell_type": "markdown",
      "metadata": {
        "id": "view-in-github",
        "colab_type": "text"
      },
      "source": [
        "<a href=\"https://colab.research.google.com/github/tsnow2010/DATA601/blob/main/DATA601_Notes/DATA601_Week5_Review.ipynb\" target=\"_parent\"><img src=\"https://colab.research.google.com/assets/colab-badge.svg\" alt=\"Open In Colab\"/></a>"
      ]
    },
    {
      "cell_type": "markdown",
      "id": "722f6758-cf9d-41af-b477-767fe9bd57ca",
      "metadata": {
        "id": "722f6758-cf9d-41af-b477-767fe9bd57ca"
      },
      "source": [
        "1. How are code blocks represented in python?\n",
        "   1) Indentations(**Check!**)\n",
        "2. Importing and using packages (**SEE #3**)\n",
        "3. Variables : various types (basic and collections), casting, how to copy variables (**SEE #2**) (basic variable vs collections like lists and dicts) (, string concatenation (**SEE #1**)\n",
        "   1) Basic: str (immutable), int, float, Boolean, objects(**Check!**)\n",
        "   2) Collections: lists (unsorted, mutable, duplicates), dictionaries (unsorted, mutable, no duplicates), sets (unsorted, mutable, no duplicates), tuples(unsorted, immutable, duplicates)(**Check!**)\n",
        "4. Casting: use int(), str(), list(), etc.(**Check!**)\n",
        "5. Copy using commands OR cast them (even if it’s the same type) OR use for loop (**Check!**)\n",
        "6. String concatenation: (**SEE #1**)\n",
        "7. Branching : if elif and else , assignment (=) vs equality (==) operator (**Check!**)\n",
        "8. Loops : while, for, range (can range take float vals?) (**SEE #1**) , break, continue, pass, variables as counters (**SEE #1**)\n",
        "9. Files : filepath (absolute and relative), different modes of opening a file, ‘with’ keyword\n",
        "10. Functions : default values, positional arguments, keyword arguments, no positional arg after kw arg, recursive functions (**SEE #1**)\n",
        "11. OOP: methods vs functions, how methods can be ‘attached’ to classes and objects externally (**methods belonging to a class can only be used by the class and some require objects from that class**)\n",
        "12. Remember: OOP is primarily for organizing data and code for the programmer’s benefit (**Check!**)\n",
        "13. OOP: basic (instance) variables and methods, class and instance variables, constructors and __init__ method, destructors and __del__ method (**Methods are functions WITHIN a class.**)\n",
        "14. Remember : the statement import math and then using math.cos has no memory or performance benefit over from math import cos (and then using cos by itself) (**SEE #3**)\n",
        "15. Remember : are sets ordered or unordered?  - unordered\n",
        "\n"
      ]
    },
    {
      "cell_type": "code",
      "execution_count": null,
      "id": "06b29c3e-02db-419d-acd0-efdad80bec90",
      "metadata": {
        "id": "06b29c3e-02db-419d-acd0-efdad80bec90",
        "outputId": "d366634a-100f-4e6c-82a8-c92c2c0d3fc9"
      },
      "outputs": [
        {
          "ename": "TypeError",
          "evalue": "'float' object cannot be interpreted as an integer",
          "output_type": "error",
          "traceback": [
            "\u001b[0;31m---------------------------------------------------------------------------\u001b[0m",
            "\u001b[0;31mTypeError\u001b[0m                                 Traceback (most recent call last)",
            "Cell \u001b[0;32mIn[1], line 4\u001b[0m\n\u001b[1;32m      1\u001b[0m \u001b[38;5;66;03m#---------1---------#\u001b[39;00m\n\u001b[1;32m      2\u001b[0m \n\u001b[1;32m      3\u001b[0m \u001b[38;5;66;03m# Error when executing range() with float.\u001b[39;00m\n\u001b[0;32m----> 4\u001b[0m \u001b[38;5;28;01mfor\u001b[39;00m i \u001b[38;5;129;01min\u001b[39;00m \u001b[38;5;28mrange\u001b[39m(\u001b[38;5;241m0\u001b[39m,\u001b[38;5;241m10.0\u001b[39m):\n\u001b[1;32m      5\u001b[0m     \u001b[38;5;28mprint\u001b[39m(\u001b[38;5;124m'\u001b[39m\u001b[38;5;124mtest\u001b[39m\u001b[38;5;124m'\u001b[39m, i)\n",
            "\u001b[0;31mTypeError\u001b[0m: 'float' object cannot be interpreted as an integer"
          ]
        }
      ],
      "source": [
        "#---------1---------#\n",
        "\n",
        "# Error when executing range() with float.\n",
        "for i in range(0,10.0):\n",
        "    print('test', i)"
      ]
    },
    {
      "cell_type": "code",
      "execution_count": null,
      "id": "0289de71-61fe-412b-8d4a-38c45afebc80",
      "metadata": {
        "id": "0289de71-61fe-412b-8d4a-38c45afebc80",
        "outputId": "ab7cbf51-c957-4f71-b8f8-7d5a6c42ab69"
      },
      "outputs": [
        {
          "name": "stdout",
          "output_type": "stream",
          "text": [
            "test0\n",
            "test1\n",
            "test2\n",
            "test4\n",
            "test5\n",
            "test6\n"
          ]
        }
      ],
      "source": [
        "# Works now.\n",
        "for i in range(0,10):\n",
        "    if i == 3:\n",
        "        continue # skips 3, continues for loop\n",
        "    elif i == 7:\n",
        "        break # skips 7 AND terminates loop\n",
        "    print('test'+str(i))"
      ]
    },
    {
      "cell_type": "code",
      "execution_count": null,
      "id": "ceb370db-0a48-4063-872d-f8c40f874ecf",
      "metadata": {
        "id": "ceb370db-0a48-4063-872d-f8c40f874ecf"
      },
      "outputs": [],
      "source": [
        "#---------2---------#"
      ]
    },
    {
      "cell_type": "code",
      "execution_count": null,
      "id": "047cb437-0a84-4929-9072-223b9d70799f",
      "metadata": {
        "id": "047cb437-0a84-4929-9072-223b9d70799f",
        "outputId": "0d5cb748-53b1-4cf1-b1cc-7cc31f8cc2e1"
      },
      "outputs": [
        {
          "name": "stdout",
          "output_type": "stream",
          "text": [
            "False\n",
            "True\n",
            "False\n",
            "True\n",
            "After assignment.\n",
            "True\n",
            "True\n"
          ]
        }
      ],
      "source": [
        "dict = {'hi':'there'}\n",
        "dict2 = {'who':'goes there?'}\n",
        "\n",
        "# Test 1\n",
        "dict3 = dict.copy()\n",
        "print(dict is dict3) #is same object, same location?\n",
        "print(dict == dict3) #has same contents?\n",
        "\n",
        "# Test 2\n",
        "for item in dict:\n",
        "    dict3.update({item:dict[item]})\n",
        "print(dict is dict3) #is same object, same location?\n",
        "print(dict == dict3) #has same contents?\n",
        "\n",
        "# Test3\n",
        "# What happens now?\n",
        "dict = dict3\n",
        "print('After assignment.')\n",
        "print(dict is dict3) #is same object?\n",
        "print(dict == dict3) #has same contents?"
      ]
    },
    {
      "cell_type": "code",
      "execution_count": null,
      "id": "1e015713-bb8e-4368-8c60-fc4842cefdaf",
      "metadata": {
        "id": "1e015713-bb8e-4368-8c60-fc4842cefdaf",
        "outputId": "9c0c92f5-fb8d-4808-dec9-da0b2c480a2f"
      },
      "outputs": [
        {
          "name": "stdout",
          "output_type": "stream",
          "text": [
            "Requirement already satisfied: names in /opt/anaconda3/lib/python3.12/site-packages (0.3.0)\n",
            "-0.9999987317275395\n"
          ]
        }
      ],
      "source": [
        "#---------3---------#\n",
        "!pip install names #use to install a package\n",
        "import names #import for use\n",
        "\n",
        "from math import cos # No memory performance benefit over import math\n",
        "\n",
        "print(cos(3.14)) #Takes radians"
      ]
    },
    {
      "cell_type": "code",
      "execution_count": null,
      "id": "249596ba-a8f5-4a83-86e2-147434a14638",
      "metadata": {
        "id": "249596ba-a8f5-4a83-86e2-147434a14638",
        "outputId": "d95c8683-d167-4546-b86f-5018d161b34d"
      },
      "outputs": [
        {
          "name": "stdout",
          "output_type": "stream",
          "text": [
            "[9, 8, 7, 6, 5] {5, 6, 7, 8, 9} (9, 8, 7, 6, 5) {'hi': 'there', 'who': 'goes there?'}\n",
            "9\n",
            "9\n",
            "5\n",
            "6\n",
            "7\n",
            "8\n",
            "9\n"
          ]
        }
      ],
      "source": [
        "#---------4---------#\n",
        "\n",
        "list = [9,8,7,6,5]\n",
        "set = {9,8,7,6,5}\n",
        "tuple = (9,8,7,6,5)\n",
        "dict.update(dict2)\n",
        "\n",
        "print(list,set,tuple,dict)\n",
        "\n",
        "#print(dict[0])\n",
        "#print(set[0])\n",
        "print(list[0])\n",
        "print(tuple[0])\n",
        "for item in set:\n",
        "    print(item)"
      ]
    },
    {
      "cell_type": "code",
      "execution_count": null,
      "id": "e6ccd2e7-4cf7-4df4-8f80-9152d73896e6",
      "metadata": {
        "id": "e6ccd2e7-4cf7-4df4-8f80-9152d73896e6",
        "outputId": "40336a3c-ce7d-4079-92d6-e9a7174f09d3"
      },
      "outputs": [
        {
          "name": "stdout",
          "output_type": "stream",
          "text": [
            "Hello my friend hello\n",
            "its good to empty\n",
            "welcome to the jungle\n",
            "on you keep loving\n"
          ]
        },
        {
          "ename": "TypeError",
          "evalue": "print_something() got multiple values for argument 'b'",
          "output_type": "error",
          "traceback": [
            "\u001b[0;31m---------------------------------------------------------------------------\u001b[0m",
            "\u001b[0;31mTypeError\u001b[0m                                 Traceback (most recent call last)",
            "Cell \u001b[0;32mIn[36], line 10\u001b[0m\n\u001b[1;32m      8\u001b[0m print_something(d\u001b[38;5;241m=\u001b[39m\u001b[38;5;124m'\u001b[39m\u001b[38;5;124mjungle\u001b[39m\u001b[38;5;124m'\u001b[39m,c\u001b[38;5;241m=\u001b[39m\u001b[38;5;124m'\u001b[39m\u001b[38;5;124mthe\u001b[39m\u001b[38;5;124m'\u001b[39m,b\u001b[38;5;241m=\u001b[39m\u001b[38;5;124m'\u001b[39m\u001b[38;5;124mto\u001b[39m\u001b[38;5;124m'\u001b[39m,a\u001b[38;5;241m=\u001b[39m\u001b[38;5;124m'\u001b[39m\u001b[38;5;124mwelcome\u001b[39m\u001b[38;5;124m'\u001b[39m) \u001b[38;5;66;03m# all keyword arguments, and they're all out of order (yet it prints correctly)!\u001b[39;00m\n\u001b[1;32m      9\u001b[0m print_something(\u001b[38;5;124m'\u001b[39m\u001b[38;5;124mon\u001b[39m\u001b[38;5;124m'\u001b[39m,\u001b[38;5;124m'\u001b[39m\u001b[38;5;124myou\u001b[39m\u001b[38;5;124m'\u001b[39m,c\u001b[38;5;241m=\u001b[39m\u001b[38;5;124m'\u001b[39m\u001b[38;5;124mkeep\u001b[39m\u001b[38;5;124m'\u001b[39m,d\u001b[38;5;241m=\u001b[39m\u001b[38;5;124m'\u001b[39m\u001b[38;5;124mloving\u001b[39m\u001b[38;5;124m'\u001b[39m) \u001b[38;5;66;03m# works\u001b[39;00m\n\u001b[0;32m---> 10\u001b[0m print_something(\u001b[38;5;124m'\u001b[39m\u001b[38;5;124mon\u001b[39m\u001b[38;5;124m'\u001b[39m,\u001b[38;5;124m'\u001b[39m\u001b[38;5;124myou\u001b[39m\u001b[38;5;124m'\u001b[39m,b\u001b[38;5;241m=\u001b[39m\u001b[38;5;124m'\u001b[39m\u001b[38;5;124mkeep\u001b[39m\u001b[38;5;124m'\u001b[39m,a\u001b[38;5;241m=\u001b[39m\u001b[38;5;124m'\u001b[39m\u001b[38;5;124mloving\u001b[39m\u001b[38;5;124m'\u001b[39m) \u001b[38;5;66;03m# throws error, multiple values being assigned to same variables\u001b[39;00m\n\u001b[1;32m     11\u001b[0m \u001b[38;5;66;03m#print_something(a='keep',c='loving', 'on','you') # throws error, positional argument follows kw argument\u001b[39;00m\n\u001b[1;32m     12\u001b[0m print_something(\u001b[38;5;124m'\u001b[39m\u001b[38;5;124mkeep\u001b[39m\u001b[38;5;124m'\u001b[39m,\u001b[38;5;124m'\u001b[39m\u001b[38;5;124mon\u001b[39m\u001b[38;5;124m'\u001b[39m,\u001b[38;5;124m'\u001b[39m\u001b[38;5;124mloving\u001b[39m\u001b[38;5;124m'\u001b[39m, d\u001b[38;5;241m=\u001b[39m \u001b[38;5;124m'\u001b[39m\u001b[38;5;124myou\u001b[39m\u001b[38;5;124m'\u001b[39m)\n",
            "\u001b[0;31mTypeError\u001b[0m: print_something() got multiple values for argument 'b'"
          ]
        }
      ],
      "source": [
        "#---------5---------#\n",
        "\n",
        "def print_something(a,b,c,d='empty'): # currently a-c are positional arguments, d is a keyword,default argument\n",
        "    print(a,b,c,d)\n",
        "\n",
        "print_something('Hello','my','friend','hello') # all positional, d is changed from default\n",
        "print_something('its', 'good','to') # all positional, default is used\n",
        "print_something(d='jungle',c='the',b='to',a='welcome') # all keyword arguments, and they're all out of order (yet it prints correctly)!\n",
        "print_something('on','you',c='keep',d='loving') # works\n",
        "print_something('on','you',b='keep',a='loving') # throws error, multiple values being assigned to same variables\n",
        "#print_something(a='keep',c='loving', 'on','you') # throws error, positional argument follows kw argument\n",
        "print_something('keep','on','loving', d= 'you')\n",
        "\n",
        "# Here are the rules, (1) if there are positional arguments, they MUST come before keyword arguments.  (2) All keyword or all positional arguments also work."
      ]
    },
    {
      "cell_type": "code",
      "execution_count": null,
      "id": "598f1f96-d545-45d3-af9e-14e898c6d912",
      "metadata": {
        "id": "598f1f96-d545-45d3-af9e-14e898c6d912",
        "outputId": "9f5fe67c-3e22-4993-9918-aabe81856d42"
      },
      "outputs": [
        {
          "ename": "FileNotFoundError",
          "evalue": "[Errno 2] No such file or directory: 'test.txt'",
          "output_type": "error",
          "traceback": [
            "\u001b[0;31m---------------------------------------------------------------------------\u001b[0m",
            "\u001b[0;31mFileNotFoundError\u001b[0m                         Traceback (most recent call last)",
            "Cell \u001b[0;32mIn[23], line 1\u001b[0m\n\u001b[0;32m----> 1\u001b[0m \u001b[38;5;28;01mwith\u001b[39;00m \u001b[38;5;28mopen\u001b[39m(\u001b[38;5;124m'\u001b[39m\u001b[38;5;124mtest.txt\u001b[39m\u001b[38;5;124m'\u001b[39m,\u001b[38;5;124m'\u001b[39m\u001b[38;5;124mr\u001b[39m\u001b[38;5;124m'\u001b[39m) \u001b[38;5;28;01mas\u001b[39;00m file:\n\u001b[1;32m      2\u001b[0m     \u001b[38;5;28;01mfor\u001b[39;00m line \u001b[38;5;129;01min\u001b[39;00m file:\n\u001b[1;32m      3\u001b[0m         \u001b[38;5;28mprint\u001b[39m(line)\n",
            "File \u001b[0;32m/opt/anaconda3/lib/python3.12/site-packages/IPython/core/interactiveshell.py:324\u001b[0m, in \u001b[0;36m_modified_open\u001b[0;34m(file, *args, **kwargs)\u001b[0m\n\u001b[1;32m    317\u001b[0m \u001b[38;5;28;01mif\u001b[39;00m file \u001b[38;5;129;01min\u001b[39;00m {\u001b[38;5;241m0\u001b[39m, \u001b[38;5;241m1\u001b[39m, \u001b[38;5;241m2\u001b[39m}:\n\u001b[1;32m    318\u001b[0m     \u001b[38;5;28;01mraise\u001b[39;00m \u001b[38;5;167;01mValueError\u001b[39;00m(\n\u001b[1;32m    319\u001b[0m         \u001b[38;5;124mf\u001b[39m\u001b[38;5;124m\"\u001b[39m\u001b[38;5;124mIPython won\u001b[39m\u001b[38;5;124m'\u001b[39m\u001b[38;5;124mt let you open fd=\u001b[39m\u001b[38;5;132;01m{\u001b[39;00mfile\u001b[38;5;132;01m}\u001b[39;00m\u001b[38;5;124m by default \u001b[39m\u001b[38;5;124m\"\u001b[39m\n\u001b[1;32m    320\u001b[0m         \u001b[38;5;124m\"\u001b[39m\u001b[38;5;124mas it is likely to crash IPython. If you know what you are doing, \u001b[39m\u001b[38;5;124m\"\u001b[39m\n\u001b[1;32m    321\u001b[0m         \u001b[38;5;124m\"\u001b[39m\u001b[38;5;124myou can use builtins\u001b[39m\u001b[38;5;124m'\u001b[39m\u001b[38;5;124m open.\u001b[39m\u001b[38;5;124m\"\u001b[39m\n\u001b[1;32m    322\u001b[0m     )\n\u001b[0;32m--> 324\u001b[0m \u001b[38;5;28;01mreturn\u001b[39;00m io_open(file, \u001b[38;5;241m*\u001b[39margs, \u001b[38;5;241m*\u001b[39m\u001b[38;5;241m*\u001b[39mkwargs)\n",
            "\u001b[0;31mFileNotFoundError\u001b[0m: [Errno 2] No such file or directory: 'test.txt'"
          ]
        }
      ],
      "source": [
        "with open('test.txt','r') as file:\n",
        "    for line in file:\n",
        "        print(line)\n",
        "    with open ('/Users/snowgtyler/Downloads/test.txt','w') as file2:\n",
        "        file2.write(file[0]+'\\n'*10)\n"
      ]
    },
    {
      "cell_type": "code",
      "execution_count": null,
      "id": "22df914f-2106-47e9-8489-cc7d3c9b5998",
      "metadata": {
        "id": "22df914f-2106-47e9-8489-cc7d3c9b5998",
        "outputId": "8d69bab5-93b9-4adf-bb7c-14be3246d43c"
      },
      "outputs": [
        {
          "data": {
            "text/plain": [
              "'/Users/snowgtyler/Downloads'"
            ]
          },
          "execution_count": 11,
          "metadata": {},
          "output_type": "execute_result"
        }
      ],
      "source": [
        "import os\n",
        "os.getcwd()\n"
      ]
    },
    {
      "cell_type": "code",
      "execution_count": null,
      "id": "352e4170-df67-431b-b265-67308862c68a",
      "metadata": {
        "id": "352e4170-df67-431b-b265-67308862c68a",
        "outputId": "774d5aea-9cc7-4e83-ce2e-eb4db6272dd3"
      },
      "outputs": [
        {
          "data": {
            "text/plain": [
              "'/Users/snowgtyler/Downloads/test.txt'"
            ]
          },
          "execution_count": 19,
          "metadata": {},
          "output_type": "execute_result"
        }
      ],
      "source": [
        "os.path.abspath('test.txt')"
      ]
    },
    {
      "cell_type": "code",
      "execution_count": null,
      "id": "371744d3-f628-479b-b132-23db97d2e201",
      "metadata": {
        "id": "371744d3-f628-479b-b132-23db97d2e201"
      },
      "outputs": [],
      "source": []
    }
  ],
  "metadata": {
    "kernelspec": {
      "display_name": "Python 3 (ipykernel)",
      "language": "python",
      "name": "python3"
    },
    "language_info": {
      "codemirror_mode": {
        "name": "ipython",
        "version": 3
      },
      "file_extension": ".py",
      "mimetype": "text/x-python",
      "name": "python",
      "nbconvert_exporter": "python",
      "pygments_lexer": "ipython3",
      "version": "3.12.4"
    },
    "colab": {
      "provenance": [],
      "include_colab_link": true
    }
  },
  "nbformat": 4,
  "nbformat_minor": 5
}