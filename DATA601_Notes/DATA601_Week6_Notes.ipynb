{
  "cells": [
    {
      "cell_type": "markdown",
      "metadata": {
        "id": "view-in-github",
        "colab_type": "text"
      },
      "source": [
        "<a href=\"https://colab.research.google.com/github/tsnow2010/DATA601/blob/main/DATA601_Notes/DATA601_Week6_Notes.ipynb\" target=\"_parent\"><img src=\"https://colab.research.google.com/assets/colab-badge.svg\" alt=\"Open In Colab\"/></a>"
      ]
    },
    {
      "cell_type": "markdown",
      "id": "0dfddd31-92f1-4565-a9ba-9be4c3f59dca",
      "metadata": {
        "id": "0dfddd31-92f1-4565-a9ba-9be4c3f59dca"
      },
      "source": [
        "# DATA601 Week 6 Notes"
      ]
    },
    {
      "cell_type": "code",
      "execution_count": null,
      "id": "ca43cbfb-495c-4da2-bcbe-54fa77dd3f05",
      "metadata": {
        "id": "ca43cbfb-495c-4da2-bcbe-54fa77dd3f05",
        "outputId": "8dc761d4-3ce7-4d67-a4eb-6b50866ab1f9"
      },
      "outputs": [
        {
          "name": "stdout",
          "output_type": "stream",
          "text": [
            "None\n"
          ]
        },
        {
          "name": "stderr",
          "output_type": "stream",
          "text": [
            "<>:7: SyntaxWarning: invalid escape sequence '\\W'\n",
            "<>:7: SyntaxWarning: invalid escape sequence '\\W'\n",
            "/var/folders/yx/32mlh_nx5ns6v1zmf7rs6l8h0000gn/T/ipykernel_1678/2986904611.py:7: SyntaxWarning: invalid escape sequence '\\W'\n",
            "  x= re.split('\\W',txt)\n"
          ]
        }
      ],
      "source": [
        "import re\n",
        "\n",
        "# findall('',txt) may have issues finding all occurrences if any of them overlap with each other.\n",
        "\n",
        "\n",
        "txt = 'DATA601: Introduction to Data Science'\n",
        "x= re.split('\\W',txt)\n",
        "print(list(x))"
      ]
    },
    {
      "cell_type": "markdown",
      "id": "4506a2c8-b7dc-486c-aa5a-70349242b5ee",
      "metadata": {
        "id": "4506a2c8-b7dc-486c-aa5a-70349242b5ee"
      },
      "source": [
        "# Regex syntax for function: re.findall('char',txt)"
      ]
    },
    {
      "cell_type": "code",
      "execution_count": null,
      "id": "8c7511bf-056d-4903-a855-8d41d1e5d174",
      "metadata": {
        "id": "8c7511bf-056d-4903-a855-8d41d1e5d174"
      },
      "outputs": [],
      "source": [
        "# Note that\n",
        "#   * all comparisons are done on EVERY character in the input and counts blanks if your args would include them!\n",
        "#   * if conditions apply multiple times in a segment, it will could all occurrences\n",
        "# CHECK OUT regexr.com for help quick testing of your regex syntax!\n",
        "\n",
        "# a+ -> at least (1) 'a'\n",
        "# ae+ -> a AND at least (1) 'e'\n",
        "# e? -> (0) OR (1) 'e', will count spaces and appear as ''\n",
        "# e* -> (0) or more 'e'\n",
        "# .at -> match any (1) character ending in 'at', if more than (1) before 'at', it will be truncated.\n",
        "# \\w -> any alphanumeric char including underscore\n",
        "# \\W -> any character NOT IN a match for '\\w'\n",
        "# \\d -> any digit // equivalent to '[0-9]'\n",
        "# \\s -> any white space characteres (spaces, tabs, line breaks)\n",
        "# ^rat -> starts with 'rat' // THIS DOES NOT COMPARE every char in string, only the beginning of entire string, and returns (1) element\n",
        "# $rat -> ends with 'rat' // like above, THIS DOES NOT COMPARE every char in string, only the end of entire string and returns (1) element\n",
        "\n",
        "# Look ahead operators:\n",
        "# * Requires a combination of a properly oriented '.' and '?'\n",
        "\n",
        "# ((?<=[tT]he).) ->  'positive look behind', returns any character that is preceded by \"the\" or 'The'\n",
        "#.    * if given 'The Then they them thor', [' ','n','y','m'] would be returned\n",
        "# (.(?=at)) -> positive look ahead //\n",
        "# ((?<![tT]he).) -> negative look behind // inverse of positive look behind\n",
        "# (.(?!at)) -> negative look ahead // inverse of positive look ahead\n",
        "\n",
        "\n",
        "# Quantifiers\n",
        "# e{min,max} -> find matches with at least (min) e and no more than (max) e\n",
        "\n",
        "# Character Set\n",
        "# [br]at -> match with b or r ending in 'at'. // Think of it as (b OR r + .at)\n",
        "\n",
        "# Ranges in character sets.\n",
        "# [a-zA-z]at -> match with lowercase letter or uppercase letter ending in 'at'.   // note that the '-' includes char to left and right as 1\n",
        "\n",
        "# OR operator (|)\n",
        "# \"The|the\" -> match 'The' or 'the'\n",
        "\n",
        "# Parentheses: limits the scope of any operator, helps with hierarchy\n",
        "# NOTE: if you use parentheses, the entire argument must be encapsulated by parentheses, otherwise it will not work.\n",
        "#    * For instance, with \"(T|t)he\", the 'he' is ignored.  You must put in '((T|t)he)' to work properly.\n",
        "#    * If \"the\" or \"The\" is passed in this case, you would get [('the','t'),('The','T')]\n",
        "#        The parentheses act like another OR statement!\n",
        "#.   * Really, the () act like \"tuple makers\"\n"
      ]
    },
    {
      "cell_type": "code",
      "execution_count": null,
      "id": "eaa81754-455c-4bf9-b5dc-6fc13e393e49",
      "metadata": {
        "id": "eaa81754-455c-4bf9-b5dc-6fc13e393e49"
      },
      "outputs": [],
      "source": [
        "# Practical Examples:\n",
        "\n",
        "# Look for numbers resembling DODIDs\n",
        "\n",
        "# Look for names in format, 'LN, FN, MI.'\n",
        "\n"
      ]
    },
    {
      "cell_type": "markdown",
      "id": "d6acb3b9-b209-4d5d-a1e1-53b069858334",
      "metadata": {
        "id": "d6acb3b9-b209-4d5d-a1e1-53b069858334"
      },
      "source": [
        "# NUMPY"
      ]
    },
    {
      "cell_type": "code",
      "execution_count": null,
      "id": "1dadbde9-392e-456f-a982-07023b2d1c08",
      "metadata": {
        "id": "1dadbde9-392e-456f-a982-07023b2d1c08",
        "outputId": "48ca4ef5-5a1f-4877-f227-fe35566c8d40"
      },
      "outputs": [
        {
          "data": {
            "text/plain": [
              "array([1, 2, 3])"
            ]
          },
          "execution_count": 87,
          "metadata": {},
          "output_type": "execute_result"
        }
      ],
      "source": [
        "import numpy as np\n",
        "import math\n",
        "\n",
        "# all elements in an array MUST BE of same data type\n",
        "# use np.(str|bool|int|float|complex)_(ndarray) to convert all elements to the requested data type!\n",
        "\n",
        "array1 = np.array([1,2,3])\n",
        "array1\n"
      ]
    },
    {
      "cell_type": "code",
      "execution_count": null,
      "id": "51b7b6d6-307a-4fe8-a218-029636541e2f",
      "metadata": {
        "id": "51b7b6d6-307a-4fe8-a218-029636541e2f",
        "outputId": "dbb7f6fe-5a03-42a5-cabd-3a43f80cea33"
      },
      "outputs": [
        {
          "data": {
            "text/plain": [
              "numpy.ndarray"
            ]
          },
          "execution_count": 5,
          "metadata": {},
          "output_type": "execute_result"
        }
      ],
      "source": [
        "type(array1)"
      ]
    },
    {
      "cell_type": "code",
      "execution_count": null,
      "id": "e6dd1c1f-6f06-4333-96c5-d78a873f7e41",
      "metadata": {
        "id": "e6dd1c1f-6f06-4333-96c5-d78a873f7e41"
      },
      "outputs": [],
      "source": [
        "array2 = np.array([1,0,1,0])\n",
        "# Turn to bool"
      ]
    },
    {
      "cell_type": "code",
      "execution_count": null,
      "id": "5b9c072e-781f-4ffc-9535-42a91545dfbf",
      "metadata": {
        "id": "5b9c072e-781f-4ffc-9535-42a91545dfbf",
        "outputId": "8c58007a-2863-4afc-ced3-2c9c8405c4a2"
      },
      "outputs": [
        {
          "data": {
            "text/plain": [
              "array([[1, 2],\n",
              "       [3, 4],\n",
              "       [5, 6]])"
            ]
          },
          "execution_count": 9,
          "metadata": {},
          "output_type": "execute_result"
        }
      ],
      "source": [
        "# Creating 3x2 array\n",
        "\n",
        "array4 = np.array([[1,2],[3,4],[5,6]])\n",
        "array4"
      ]
    },
    {
      "cell_type": "code",
      "execution_count": null,
      "id": "b1ee5060-87ab-4eae-bf41-12891dfe253b",
      "metadata": {
        "id": "b1ee5060-87ab-4eae-bf41-12891dfe253b",
        "outputId": "9ee94bac-83ce-49f8-8b78-0126cebb530f"
      },
      "outputs": [
        {
          "data": {
            "text/plain": [
              "(3, 2)"
            ]
          },
          "execution_count": 11,
          "metadata": {},
          "output_type": "execute_result"
        }
      ],
      "source": [
        "array4.shape # Same as pandas"
      ]
    },
    {
      "cell_type": "code",
      "execution_count": null,
      "id": "d3ad1410-6aaa-43a9-9290-866304b6ceff",
      "metadata": {
        "id": "d3ad1410-6aaa-43a9-9290-866304b6ceff",
        "outputId": "1c7ddc0d-e395-4eee-e832-e32ba8119a1d"
      },
      "outputs": [
        {
          "data": {
            "text/plain": [
              "6"
            ]
          },
          "execution_count": 13,
          "metadata": {},
          "output_type": "execute_result"
        }
      ],
      "source": [
        "array4.size # how many elements?"
      ]
    },
    {
      "cell_type": "code",
      "execution_count": null,
      "id": "f3fc29f9-d762-4613-993c-c8857f679963",
      "metadata": {
        "id": "f3fc29f9-d762-4613-993c-c8857f679963",
        "outputId": "d4e32801-4646-4f3d-c2fc-3370cf8b480b"
      },
      "outputs": [
        {
          "data": {
            "text/plain": [
              "6"
            ]
          },
          "execution_count": 19,
          "metadata": {},
          "output_type": "execute_result"
        }
      ],
      "source": [
        "array4[2][1] # should return '6', notice that this is indexing rowsxcol like python normally indexes"
      ]
    },
    {
      "cell_type": "code",
      "execution_count": null,
      "id": "52dabbfa-c557-477f-9168-aecf42010f85",
      "metadata": {
        "id": "52dabbfa-c557-477f-9168-aecf42010f85",
        "outputId": "deffb7ce-aa83-4c37-bf15-be90cd0fbe19"
      },
      "outputs": [
        {
          "data": {
            "text/plain": [
              "6"
            ]
          },
          "execution_count": 23,
          "metadata": {},
          "output_type": "execute_result"
        }
      ],
      "source": [
        "array4[2,1] # this format is the same as well"
      ]
    },
    {
      "cell_type": "code",
      "execution_count": null,
      "id": "d86989eb-992d-49dc-b6cb-e4822c4df8b6",
      "metadata": {
        "id": "d86989eb-992d-49dc-b6cb-e4822c4df8b6",
        "outputId": "fa62a2c0-0fd2-4ddf-ef2f-eca9e5133350"
      },
      "outputs": [
        {
          "data": {
            "text/plain": [
              "array([1, 3, 5])"
            ]
          },
          "execution_count": 25,
          "metadata": {},
          "output_type": "execute_result"
        }
      ],
      "source": [
        "array4[:,0] # gives first column"
      ]
    },
    {
      "cell_type": "code",
      "execution_count": null,
      "id": "96e770e6-6fd1-47b4-9d94-b741a20563a7",
      "metadata": {
        "id": "96e770e6-6fd1-47b4-9d94-b741a20563a7",
        "outputId": "03ca2b63-fdef-4070-b7cd-0003f329f2bd"
      },
      "outputs": [
        {
          "data": {
            "text/plain": [
              "array([1, 2])"
            ]
          },
          "execution_count": 27,
          "metadata": {},
          "output_type": "execute_result"
        }
      ],
      "source": [
        "array4[0,:] # gives first row"
      ]
    },
    {
      "cell_type": "code",
      "execution_count": null,
      "id": "a80faf63-1a43-44b1-8fb7-8361d3d40129",
      "metadata": {
        "id": "a80faf63-1a43-44b1-8fb7-8361d3d40129",
        "outputId": "c563358c-d18c-46be-99de-673148b0b3ef"
      },
      "outputs": [
        {
          "data": {
            "text/plain": [
              "array([1, 2])"
            ]
          },
          "execution_count": 29,
          "metadata": {},
          "output_type": "execute_result"
        }
      ],
      "source": [
        "array4[:][0] # WATCH OUT, this is odd but is equivalent to the above statement.  Avoid the [][] notation, it's confusing."
      ]
    },
    {
      "cell_type": "code",
      "execution_count": null,
      "id": "988c84dc-d340-4b76-8b5e-07aaf6860181",
      "metadata": {
        "id": "988c84dc-d340-4b76-8b5e-07aaf6860181",
        "outputId": "ddf85aa4-d26f-4b66-906a-e58a4652ce37"
      },
      "outputs": [
        {
          "data": {
            "text/plain": [
              "array([1, 2, 3, 4, 5, 6])"
            ]
          },
          "execution_count": 33,
          "metadata": {},
          "output_type": "execute_result"
        }
      ],
      "source": [
        "# .flatten() concatenates row1 + row2 + row3 // 'row major form' == 'C'\n",
        "array4.flatten() #Optional param is 'F' or 'C' // 'C' is default"
      ]
    },
    {
      "cell_type": "code",
      "execution_count": null,
      "id": "9345a37d-b16a-43ac-a715-db51bb141811",
      "metadata": {
        "id": "9345a37d-b16a-43ac-a715-db51bb141811",
        "outputId": "4306e5e1-651c-460e-dc75-bb0c30994977"
      },
      "outputs": [
        {
          "data": {
            "text/plain": [
              "array([1, 3, 5, 2, 4, 6])"
            ]
          },
          "execution_count": 35,
          "metadata": {},
          "output_type": "execute_result"
        }
      ],
      "source": [
        "# .flatten() with 'column major form' or 'Fortran-style'\n",
        "array4.flatten('F')"
      ]
    },
    {
      "cell_type": "code",
      "execution_count": null,
      "id": "fdcfe737-8290-4972-9191-3168cc114b9d",
      "metadata": {
        "id": "fdcfe737-8290-4972-9191-3168cc114b9d",
        "outputId": "064c6843-9080-454a-bc57-3b31cb0f11ae"
      },
      "outputs": [
        {
          "data": {
            "text/plain": [
              "array([[1, 2, 3],\n",
              "       [4, 5, 6]])"
            ]
          },
          "execution_count": 39,
          "metadata": {},
          "output_type": "execute_result"
        }
      ],
      "source": [
        "# .reshape() make 2x3 matrix, pulls element by element, row major // arrays are immutable!\n",
        "array4.reshape(2,3)"
      ]
    },
    {
      "cell_type": "code",
      "execution_count": null,
      "id": "f89af08c-5460-44b1-8e76-3ad98172f425",
      "metadata": {
        "id": "f89af08c-5460-44b1-8e76-3ad98172f425",
        "outputId": "90b3a5a8-eff7-446e-c1e6-d8b53ed1a3e8"
      },
      "outputs": [
        {
          "data": {
            "text/plain": [
              "array([[1, 5, 4],\n",
              "       [3, 2, 6]])"
            ]
          },
          "execution_count": 43,
          "metadata": {},
          "output_type": "execute_result"
        }
      ],
      "source": [
        "# .reshape() make 2x3 matrix, pulls element by element, column major\n",
        "array4.reshape((2,3),order='F')"
      ]
    },
    {
      "cell_type": "code",
      "execution_count": null,
      "id": "470f9f1c-b507-4548-a9e2-7ba2469c304d",
      "metadata": {
        "id": "470f9f1c-b507-4548-a9e2-7ba2469c304d",
        "outputId": "22aa15d7-488c-4172-84b8-4a44d7db0f3f"
      },
      "outputs": [
        {
          "data": {
            "text/plain": [
              "array([[1, 2, 3],\n",
              "       [4, 5, 6]])"
            ]
          },
          "execution_count": 45,
          "metadata": {},
          "output_type": "execute_result"
        }
      ],
      "source": [
        "# .reshape() with negative numbers asks python to decide the number of rows/columns given set row/column\n",
        "# symmetry MUST be possible or error will be thrown\n",
        "\n",
        "array4.reshape(-1,3) # should give 2x3 matrix"
      ]
    },
    {
      "cell_type": "code",
      "execution_count": null,
      "id": "3fb10c7d-0afe-418c-8dbf-8e7526b376bc",
      "metadata": {
        "id": "3fb10c7d-0afe-418c-8dbf-8e7526b376bc",
        "outputId": "1719eb6d-f785-43a1-c748-1d929806705a"
      },
      "outputs": [
        {
          "data": {
            "text/plain": [
              "array([0, 1, 2, 3, 4, 5, 6, 7, 8, 9])"
            ]
          },
          "execution_count": 59,
          "metadata": {},
          "output_type": "execute_result"
        }
      ],
      "source": [
        "array5 = np.arange(10) # acts like range(0) but makes an ndarray\n",
        "array5"
      ]
    },
    {
      "cell_type": "code",
      "execution_count": null,
      "id": "52040d4c-40f8-4305-933c-48834dc15756",
      "metadata": {
        "id": "52040d4c-40f8-4305-933c-48834dc15756",
        "outputId": "399e22c7-a92c-464f-caf0-41ceaef89feb"
      },
      "outputs": [
        {
          "data": {
            "text/plain": [
              "10"
            ]
          },
          "execution_count": 61,
          "metadata": {},
          "output_type": "execute_result"
        }
      ],
      "source": [
        "array5.size # acts like len()"
      ]
    },
    {
      "cell_type": "code",
      "execution_count": null,
      "id": "53e36980-4db1-4499-9f3a-3cee255f64db",
      "metadata": {
        "id": "53e36980-4db1-4499-9f3a-3cee255f64db",
        "outputId": "feef65eb-1520-4d3e-89e8-8abae5d11f0f"
      },
      "outputs": [
        {
          "data": {
            "text/plain": [
              "array([0. , 0.5, 1. , 1.5, 2. , 2.5, 3. , 3.5, 4. , 4.5, 5. , 5.5, 6. ,\n",
              "       6.5, 7. , 7.5, 8. , 8.5, 9. , 9.5])"
            ]
          },
          "execution_count": 63,
          "metadata": {},
          "output_type": "execute_result"
        }
      ],
      "source": [
        "array6 = np.arange(0,10,.5)\n",
        "array6"
      ]
    },
    {
      "cell_type": "code",
      "execution_count": null,
      "id": "2bc16ecf-07c3-4769-a0d5-8a0d14aa12de",
      "metadata": {
        "id": "2bc16ecf-07c3-4769-a0d5-8a0d14aa12de",
        "outputId": "21275530-ed9a-4e9e-cce3-189deb756da6"
      },
      "outputs": [
        {
          "name": "stdout",
          "output_type": "stream",
          "text": [
            "[0.         0.21052632 0.42105263 0.63157895 0.84210526 1.05263158\n",
            " 1.26315789 1.47368421 1.68421053 1.89473684 2.10526316 2.31578947\n",
            " 2.52631579 2.73684211 2.94736842 3.15789474 3.36842105 3.57894737\n",
            " 3.78947368 4.        ]\n"
          ]
        },
        {
          "data": {
            "text/plain": [
              "(20,)"
            ]
          },
          "execution_count": 69,
          "metadata": {},
          "output_type": "execute_result"
        }
      ],
      "source": [
        "# .linspace() is similar to .arange() but it asks a range and how many elements you want, versus an increment.\n",
        "array7 = np.linspace(0,4,20)\n",
        "print(array7)\n",
        "array7.shape"
      ]
    },
    {
      "cell_type": "code",
      "execution_count": null,
      "id": "3939e3a7-19ea-4758-bd3f-34fd0e27212c",
      "metadata": {
        "id": "3939e3a7-19ea-4758-bd3f-34fd0e27212c",
        "outputId": "d6077b80-112a-4a2e-d11b-d557387ae47d"
      },
      "outputs": [
        {
          "data": {
            "text/plain": [
              "(20,)"
            ]
          },
          "execution_count": 73,
          "metadata": {},
          "output_type": "execute_result"
        }
      ],
      "source": [
        "array7.reshape(20,1)\n",
        "array7.shape"
      ]
    },
    {
      "cell_type": "code",
      "execution_count": null,
      "id": "f2c2fd36-af4f-434a-8bed-eefbb6d7219c",
      "metadata": {
        "id": "f2c2fd36-af4f-434a-8bed-eefbb6d7219c",
        "outputId": "4b5856f3-2e12-48f9-b232-9420e2d7255c"
      },
      "outputs": [
        {
          "data": {
            "text/plain": [
              "(2, 1)"
            ]
          },
          "execution_count": 77,
          "metadata": {},
          "output_type": "execute_result"
        }
      ],
      "source": [
        "array8 = np.array([[1],[2]]) # should be .shape should return (2,)\n",
        "array8.shape # But it doesn't.... interesting."
      ]
    },
    {
      "cell_type": "code",
      "execution_count": null,
      "id": "47d49191-c731-41e9-9270-a27a89fc07af",
      "metadata": {
        "id": "47d49191-c731-41e9-9270-a27a89fc07af"
      },
      "outputs": [],
      "source": [
        "# Useful methods:\n",
        "#   * Use axis=0/1 param to isolate columns and rows.\n",
        "\n",
        "\n",
        "#.ones() # makes an array of 1's\n",
        "#.zeros() # makes an array of 0's\n",
        "#.identity() provides identity matrix of given dimension\n",
        "\n",
        "#.min()  #returns min in matrix // 'axis' param specifies the row\n",
        "#.max()  #returns max in matrix\n",
        "#.mean()\n",
        "#.sum()\n",
        "#.prod() # takes product of all elements\n",
        "#.transpose() # rows become columns and vice versa\n",
        "#    <ndarray>.T AND <ndarray>.swapaxes(0,1) -> will do the same thing\n",
        "\n",
        "#.argmin() # returns location of min\n",
        "#.argmax() # returns location of max\n",
        "\n",
        "#np.copy(<ndarray>) # returns deep copy of array.\n",
        "#.copy() # returns deep copy of array"
      ]
    },
    {
      "cell_type": "code",
      "execution_count": null,
      "id": "cce86516-adf6-4c39-ba0c-6381b9b1fad2",
      "metadata": {
        "id": "cce86516-adf6-4c39-ba0c-6381b9b1fad2",
        "outputId": "27ab3da5-03d4-4c58-a8f2-671cfbee69e4"
      },
      "outputs": [
        {
          "data": {
            "text/plain": [
              "array([[1, 2],\n",
              "       [3, 4],\n",
              "       [5, 6]])"
            ]
          },
          "execution_count": 79,
          "metadata": {},
          "output_type": "execute_result"
        }
      ],
      "source": [
        "array4"
      ]
    },
    {
      "cell_type": "code",
      "execution_count": null,
      "id": "6d88d8a1-1541-4dca-8fef-6608eddf1e51",
      "metadata": {
        "id": "6d88d8a1-1541-4dca-8fef-6608eddf1e51",
        "outputId": "f26d198b-b99d-45ad-e574-131926bc336c"
      },
      "outputs": [
        {
          "data": {
            "text/plain": [
              "5"
            ]
          },
          "execution_count": 81,
          "metadata": {},
          "output_type": "execute_result"
        }
      ],
      "source": [
        "array4.argmax() # how is this the location?"
      ]
    },
    {
      "cell_type": "code",
      "execution_count": null,
      "id": "824f88fb-9748-4728-bdc6-69385675beb3",
      "metadata": {
        "id": "824f88fb-9748-4728-bdc6-69385675beb3",
        "outputId": "5577f271-332e-405e-cb48-cd99d9f84126"
      },
      "outputs": [
        {
          "name": "stdout",
          "output_type": "stream",
          "text": [
            "[[8 3 2]\n",
            " [8 9 5]\n",
            " [9 3 7]\n",
            " [2 6 2]]\n"
          ]
        }
      ],
      "source": [
        "# np has a subpackage of random\n",
        "array10 = np.random.randint(1,10,12).reshape((4,3))\n",
        "print(array10)"
      ]
    },
    {
      "cell_type": "code",
      "execution_count": null,
      "id": "ff3e6bac-1f4b-41a1-a8dc-2c586c4fca93",
      "metadata": {
        "id": "ff3e6bac-1f4b-41a1-a8dc-2c586c4fca93",
        "outputId": "8f78f1a6-5425-4c79-ed8e-d2c0ed3119d9"
      },
      "outputs": [
        {
          "data": {
            "text/plain": [
              "array([6.75, 5.25, 4.  ])"
            ]
          },
          "execution_count": 98,
          "metadata": {},
          "output_type": "execute_result"
        }
      ],
      "source": [
        "# This calculates the means in each column.\n",
        "array10.mean(axis=0)"
      ]
    },
    {
      "cell_type": "code",
      "execution_count": null,
      "id": "d54cc50f-8d06-4684-a9df-e22490c8d9dd",
      "metadata": {
        "id": "d54cc50f-8d06-4684-a9df-e22490c8d9dd",
        "outputId": "e8f2009a-61f2-4a42-e1cc-6ccba57445fb"
      },
      "outputs": [
        {
          "data": {
            "text/plain": [
              "array([4.33333333, 7.33333333, 6.33333333, 3.33333333])"
            ]
          },
          "execution_count": 104,
          "metadata": {},
          "output_type": "execute_result"
        }
      ],
      "source": [
        "# This calculates the means in each row.\n",
        "array10.mean(axis=1)"
      ]
    },
    {
      "cell_type": "markdown",
      "id": "88240be9-165f-4e70-a83d-f04c554cfe20",
      "metadata": {
        "id": "88240be9-165f-4e70-a83d-f04c554cfe20"
      },
      "source": [
        "# Matrix Creation Functions"
      ]
    },
    {
      "cell_type": "code",
      "execution_count": null,
      "id": "8d4ea665-c786-4512-a560-56885f8260b8",
      "metadata": {
        "id": "8d4ea665-c786-4512-a560-56885f8260b8",
        "outputId": "7ba7c92a-49df-4819-d198-434cc9a1d6ff"
      },
      "outputs": [
        {
          "name": "stdout",
          "output_type": "stream",
          "text": [
            "[[1. 1. 1.]\n",
            " [1. 1. 1.]\n",
            " [1. 1. 1.]]\n",
            "[[6. 6. 6.]\n",
            " [6. 6. 6.]\n",
            " [6. 6. 6.]]\n"
          ]
        }
      ],
      "source": [
        "# Scalar Ops\n",
        "\n",
        "# Addition\n",
        "array10 = np.ones((3,3))\n",
        "print(array10)\n",
        "array10 +=5\n",
        "print(array10)"
      ]
    },
    {
      "cell_type": "code",
      "execution_count": null,
      "id": "d707d7b8-09b7-4c51-b14c-b72182caa21b",
      "metadata": {
        "id": "d707d7b8-09b7-4c51-b14c-b72182caa21b",
        "outputId": "935481f9-a3ef-46c2-f632-b6c52e3ac4c7"
      },
      "outputs": [
        {
          "name": "stdout",
          "output_type": "stream",
          "text": [
            "[[36. 36. 36.]\n",
            " [36. 36. 36.]\n",
            " [36. 36. 36.]]\n"
          ]
        }
      ],
      "source": [
        "# Power Ops\n",
        "\n",
        "print(array10**2)"
      ]
    },
    {
      "cell_type": "code",
      "execution_count": null,
      "id": "9128a9ff-b941-4ff5-8bb2-27f7f69aa398",
      "metadata": {
        "id": "9128a9ff-b941-4ff5-8bb2-27f7f69aa398",
        "outputId": "fc77f777-5867-42aa-844b-04433e0af6f7"
      },
      "outputs": [
        {
          "data": {
            "text/plain": [
              "array([[1, 2],\n",
              "       [3, 4],\n",
              "       [5, 6]])"
            ]
          },
          "execution_count": 129,
          "metadata": {},
          "output_type": "execute_result"
        }
      ],
      "source": [
        "array11 = np.arange(1,7,1).reshape((3,2))\n",
        "array11"
      ]
    },
    {
      "cell_type": "code",
      "execution_count": null,
      "id": "02c693ad-f1ae-4bc8-82fe-6da0f982b1f6",
      "metadata": {
        "id": "02c693ad-f1ae-4bc8-82fe-6da0f982b1f6",
        "outputId": "0714f7f7-bed8-4d6d-d375-b1c0dc4e3b71"
      },
      "outputs": [
        {
          "data": {
            "text/plain": [
              "array([[1, 2, 3],\n",
              "       [4, 5, 6]])"
            ]
          },
          "execution_count": 131,
          "metadata": {},
          "output_type": "execute_result"
        }
      ],
      "source": [
        "array12 = np.arange(1,7,1).reshape((2,3))\n",
        "array12"
      ]
    },
    {
      "cell_type": "markdown",
      "id": "00becd91-ca44-4359-97d0-ea1fb6716fe3",
      "metadata": {
        "id": "00becd91-ca44-4359-97d0-ea1fb6716fe3"
      },
      "source": [
        "# Linear Algebra Functions"
      ]
    },
    {
      "cell_type": "code",
      "execution_count": null,
      "id": "3cafafa7-4f7e-47a1-ba99-51d98ea0b655",
      "metadata": {
        "id": "3cafafa7-4f7e-47a1-ba99-51d98ea0b655",
        "outputId": "62a68dd0-c7f0-49a0-b1dd-50c62b96ed08"
      },
      "outputs": [
        {
          "name": "stdout",
          "output_type": "stream",
          "text": [
            "[[ 1  4]\n",
            " [ 9 16]\n",
            " [25 36]]\n",
            "---\n",
            "[[ 9 12 15]\n",
            " [19 26 33]\n",
            " [29 40 51]]\n"
          ]
        }
      ],
      "source": [
        "# Multiply elements\n",
        "print(array11*array11) # multiplies corresponding elements in arrays\n",
        "print('---')\n",
        "# print(array11*array12) # throws error, must have same dimensions"
      ]
    },
    {
      "cell_type": "code",
      "execution_count": null,
      "id": "f77066c2-1f89-41fb-abfb-d38aedfcff39",
      "metadata": {
        "id": "f77066c2-1f89-41fb-abfb-d38aedfcff39",
        "outputId": "5fb96b5f-b52c-4c56-80ab-6fcc03bd04b9"
      },
      "outputs": [
        {
          "data": {
            "text/plain": [
              "array([[0.        , 0.30103   ],\n",
              "       [0.47712125, 0.60205999],\n",
              "       [0.69897   , 0.77815125]])"
            ]
          },
          "execution_count": 137,
          "metadata": {},
          "output_type": "execute_result"
        }
      ],
      "source": [
        "np.log10(array11) # Applies function to each individual element"
      ]
    },
    {
      "cell_type": "code",
      "execution_count": null,
      "id": "98102a01-db34-4e71-b159-fe72315b0770",
      "metadata": {
        "id": "98102a01-db34-4e71-b159-fe72315b0770",
        "outputId": "4ba800e6-cf2b-4f4c-8744-2f2b8857d8e6"
      },
      "outputs": [
        {
          "name": "stdout",
          "output_type": "stream",
          "text": [
            "[[ 9 12 15]\n",
            " [19 26 33]\n",
            " [29 40 51]]\n",
            "---\n",
            "[[ 9 12 15]\n",
            " [19 26 33]\n",
            " [29 40 51]]\n",
            "---\n",
            "[[ 9 12 15]\n",
            " [19 26 33]\n",
            " [29 40 51]]\n"
          ]
        }
      ],
      "source": [
        "# Dot product\n",
        "print(np.dot(array11,array12))\n",
        "# another way...\n",
        "print('---')\n",
        "print(np.matmul(array11,array12))\n",
        "# yet another...\n",
        "print('---')\n",
        "print(array11 @ array12)\n"
      ]
    },
    {
      "cell_type": "code",
      "execution_count": null,
      "id": "87f5489c-4783-4b63-acd1-e2ca9a7b7d1b",
      "metadata": {
        "id": "87f5489c-4783-4b63-acd1-e2ca9a7b7d1b",
        "outputId": "623325fc-cf3a-42d5-d9b1-d24d63730e7e"
      },
      "outputs": [
        {
          "name": "stdout",
          "output_type": "stream",
          "text": [
            "[0 0 0]\n"
          ]
        }
      ],
      "source": [
        "# Cross product\n",
        "print(np.cross(array11,array11))"
      ]
    },
    {
      "cell_type": "code",
      "execution_count": null,
      "id": "3a71443a-f30f-4670-b94a-d83ca61df162",
      "metadata": {
        "id": "3a71443a-f30f-4670-b94a-d83ca61df162",
        "outputId": "3b17b5f6-2f34-4977-f7a2-87ffc6f8a85b"
      },
      "outputs": [
        {
          "ename": "LinAlgError",
          "evalue": "Last 2 dimensions of the array must be square",
          "output_type": "error",
          "traceback": [
            "\u001b[0;31m---------------------------------------------------------------------------\u001b[0m",
            "\u001b[0;31mLinAlgError\u001b[0m                               Traceback (most recent call last)",
            "Cell \u001b[0;32mIn[159], line 2\u001b[0m\n\u001b[1;32m      1\u001b[0m \u001b[38;5;66;03m# Eigenvalues\u001b[39;00m\n\u001b[0;32m----> 2\u001b[0m \u001b[38;5;28mprint\u001b[39m(np\u001b[38;5;241m.\u001b[39mlinalg\u001b[38;5;241m.\u001b[39meig(array11))\n",
            "File \u001b[0;32m/opt/anaconda3/lib/python3.12/site-packages/numpy/linalg/linalg.py:1328\u001b[0m, in \u001b[0;36meig\u001b[0;34m(a)\u001b[0m\n\u001b[1;32m   1326\u001b[0m a, wrap \u001b[38;5;241m=\u001b[39m _makearray(a)\n\u001b[1;32m   1327\u001b[0m _assert_stacked_2d(a)\n\u001b[0;32m-> 1328\u001b[0m _assert_stacked_square(a)\n\u001b[1;32m   1329\u001b[0m _assert_finite(a)\n\u001b[1;32m   1330\u001b[0m t, result_t \u001b[38;5;241m=\u001b[39m _commonType(a)\n",
            "File \u001b[0;32m/opt/anaconda3/lib/python3.12/site-packages/numpy/linalg/linalg.py:213\u001b[0m, in \u001b[0;36m_assert_stacked_square\u001b[0;34m(*arrays)\u001b[0m\n\u001b[1;32m    211\u001b[0m m, n \u001b[38;5;241m=\u001b[39m a\u001b[38;5;241m.\u001b[39mshape[\u001b[38;5;241m-\u001b[39m\u001b[38;5;241m2\u001b[39m:]\n\u001b[1;32m    212\u001b[0m \u001b[38;5;28;01mif\u001b[39;00m m \u001b[38;5;241m!=\u001b[39m n:\n\u001b[0;32m--> 213\u001b[0m     \u001b[38;5;28;01mraise\u001b[39;00m LinAlgError(\u001b[38;5;124m'\u001b[39m\u001b[38;5;124mLast 2 dimensions of the array must be square\u001b[39m\u001b[38;5;124m'\u001b[39m)\n",
            "\u001b[0;31mLinAlgError\u001b[0m: Last 2 dimensions of the array must be square"
          ]
        }
      ],
      "source": [
        "# Eigenvalues\n",
        "print(np.linalg.eig(array11))"
      ]
    },
    {
      "cell_type": "code",
      "execution_count": null,
      "id": "bb6d534c-c9ca-429b-8661-886c5cf7d435",
      "metadata": {
        "id": "bb6d534c-c9ca-429b-8661-886c5cf7d435",
        "outputId": "e4573578-cf85-4386-f73d-dcedbbc35865"
      },
      "outputs": [
        {
          "name": "stdout",
          "output_type": "stream",
          "text": [
            "[[ 3.15251974e+15 -6.30503948e+15  3.15251974e+15]\n",
            " [-6.30503948e+15  1.26100790e+16 -6.30503948e+15]\n",
            " [ 3.15251974e+15 -6.30503948e+15  3.15251974e+15]]\n",
            "---\n",
            "[[10. 12. 14.]\n",
            " [-4. -8. -4.]\n",
            " [-2.  0.  2.]]\n"
          ]
        }
      ],
      "source": [
        "# Inverse function\n",
        "array13 = np.arange(1,10,1).reshape((3,3))\n",
        "print(np.linalg.inv(array13))\n",
        "print('---')\n",
        "print(np.linalg.inv(array13) @ array13) # should be identity! (or not, review this concept)"
      ]
    },
    {
      "cell_type": "code",
      "execution_count": null,
      "id": "9712db4e-59e1-4498-b1ba-a05c8c2a738b",
      "metadata": {
        "id": "9712db4e-59e1-4498-b1ba-a05c8c2a738b",
        "outputId": "021d1035-eaf9-472f-b752-cd3ddb18aec5"
      },
      "outputs": [
        {
          "name": "stdout",
          "output_type": "stream",
          "text": [
            "-9.51619735392994e-16\n"
          ]
        }
      ],
      "source": [
        "# Find determinant of array\n",
        "\n",
        "print(np.linalg.det(array13))"
      ]
    },
    {
      "cell_type": "markdown",
      "id": "7810cc9a-cdd6-479e-95e1-09dae94f8998",
      "metadata": {
        "id": "7810cc9a-cdd6-479e-95e1-09dae94f8998"
      },
      "source": [
        "# numpy.where() function"
      ]
    },
    {
      "cell_type": "code",
      "execution_count": null,
      "id": "35e0fd5c-07b0-4afb-9f5e-b8264028c708",
      "metadata": {
        "id": "35e0fd5c-07b0-4afb-9f5e-b8264028c708",
        "outputId": "5d480e52-703f-46ce-e79f-f7bd057da458"
      },
      "outputs": [
        {
          "data": {
            "text/plain": [
              "(array([0, 0, 1, 1, 1, 2]), array([1, 2, 0, 1, 2, 0]))"
            ]
          },
          "execution_count": 189,
          "metadata": {},
          "output_type": "execute_result"
        }
      ],
      "source": [
        "# Returns locations of where elements are greater than 1, but less than 8.  Notice, it gives the x-values in one array and y-values in another.\n",
        "np.where((array13>1) & (array13<8))"
      ]
    },
    {
      "cell_type": "code",
      "execution_count": null,
      "id": "de11b8e7-8866-4bf8-8ea8-ab130e422327",
      "metadata": {
        "id": "de11b8e7-8866-4bf8-8ea8-ab130e422327",
        "outputId": "2c7fd13f-b707-48dd-e9ca-3ec563ec1650"
      },
      "outputs": [
        {
          "data": {
            "text/plain": [
              "array([[  1, 100,   3],\n",
              "       [  4,   5,   6],\n",
              "       [  7,   8,   9]])"
            ]
          },
          "execution_count": 204,
          "metadata": {},
          "output_type": "execute_result"
        }
      ],
      "source": [
        "# Replaces elements in an array.\n",
        "new_array13 = np.where(array13==2,100,array13)\n",
        "new_array13"
      ]
    },
    {
      "cell_type": "code",
      "execution_count": null,
      "id": "e15adc3c-1e37-43ae-9e51-cde1e9965ff1",
      "metadata": {
        "id": "e15adc3c-1e37-43ae-9e51-cde1e9965ff1",
        "outputId": "e090a1d9-42f5-467c-dbc2-fb811992367e"
      },
      "outputs": [
        {
          "name": "stdout",
          "output_type": "stream",
          "text": [
            "[[1 2 3]\n",
            " [4 5 6]\n",
            " [7 8 9]]\n"
          ]
        },
        {
          "data": {
            "text/plain": [
              "array([[2, 0, 0],\n",
              "       [0, 0, 0],\n",
              "       [0, 0, 0]])"
            ]
          },
          "execution_count": 210,
          "metadata": {},
          "output_type": "execute_result"
        }
      ],
      "source": [
        "# Does replacement, similar to above, and then makes rest of elements another value (or 0 in this case)\n",
        "print(array13)\n",
        "new_array13 = np.where(array13==1,2,0)\n",
        "new_array13"
      ]
    },
    {
      "cell_type": "code",
      "execution_count": null,
      "id": "b6696ac6-d5ac-4303-9366-909ad57bc5ca",
      "metadata": {
        "id": "b6696ac6-d5ac-4303-9366-909ad57bc5ca",
        "outputId": "85c0d3f1-601b-4c83-8e83-4592a39af071"
      },
      "outputs": [
        {
          "ename": "ValueError",
          "evalue": "The truth value of an array with more than one element is ambiguous. Use a.any() or a.all()",
          "output_type": "error",
          "traceback": [
            "\u001b[0;31m---------------------------------------------------------------------------\u001b[0m",
            "\u001b[0;31mValueError\u001b[0m                                Traceback (most recent call last)",
            "Cell \u001b[0;32mIn[226], line 6\u001b[0m\n\u001b[1;32m      4\u001b[0m     \u001b[38;5;28;01mif\u001b[39;00m val \u001b[38;5;241m<\u001b[39m \u001b[38;5;241m0\u001b[39m:\n\u001b[1;32m      5\u001b[0m         \u001b[38;5;28;01mreturn\u001b[39;00m val\u001b[38;5;241m+\u001b[39m\u001b[38;5;241m1\u001b[39m\n\u001b[0;32m----> 6\u001b[0m funct1(array13)\n",
            "Cell \u001b[0;32mIn[226], line 4\u001b[0m, in \u001b[0;36mfunct1\u001b[0;34m(val)\u001b[0m\n\u001b[1;32m      3\u001b[0m \u001b[38;5;28;01mdef\u001b[39;00m \u001b[38;5;21mfunct1\u001b[39m(val):\n\u001b[0;32m----> 4\u001b[0m     \u001b[38;5;28;01mif\u001b[39;00m val \u001b[38;5;241m<\u001b[39m \u001b[38;5;241m0\u001b[39m:\n\u001b[1;32m      5\u001b[0m         \u001b[38;5;28;01mreturn\u001b[39;00m val\u001b[38;5;241m+\u001b[39m\u001b[38;5;241m1\u001b[39m\n",
            "\u001b[0;31mValueError\u001b[0m: The truth value of an array with more than one element is ambiguous. Use a.any() or a.all()"
          ]
        }
      ],
      "source": [
        "# Vectorizing Functions // Not good for performance, it is mainly for convenience.\n",
        "\n",
        "def funct1(val):\n",
        "    if val < 0:\n",
        "        return val+1\n",
        "# funct1(array13) throws error, need to vectorize"
      ]
    },
    {
      "cell_type": "code",
      "execution_count": null,
      "id": "714f8ed1-f085-4086-8602-1e10ea7a1394",
      "metadata": {
        "id": "714f8ed1-f085-4086-8602-1e10ea7a1394",
        "outputId": "02009c40-ba96-4548-c3d1-a16d59fd9ce6"
      },
      "outputs": [
        {
          "name": "stdout",
          "output_type": "stream",
          "text": [
            "[[None None None]\n",
            " [None None None]\n",
            " [None None None]]\n"
          ]
        }
      ],
      "source": [
        "# Doesn't work... why?\n",
        "new_funct1 = np.vectorize(funct1)\n",
        "print(new_funct1(array13))"
      ]
    },
    {
      "cell_type": "markdown",
      "id": "a5dd68fc-235c-438f-be95-c82bed9ed889",
      "metadata": {
        "id": "a5dd68fc-235c-438f-be95-c82bed9ed889"
      },
      "source": [
        "# Saving output (proprietary Numpy formats)"
      ]
    },
    {
      "cell_type": "code",
      "execution_count": null,
      "id": "7c22bc1e-797a-4196-a9d8-196bb94706b7",
      "metadata": {
        "id": "7c22bc1e-797a-4196-a9d8-196bb94706b7"
      },
      "outputs": [],
      "source": [
        "#np.save('test.npy', array_to_pass)\n",
        "#np.savez('test', array_to_pass1, array_to_pass2)\n",
        "# saved_files = np.load('test.npy').   /// this now has all files associated with test.npy\n",
        "#saved_files.files. #gives names of files\n",
        "   # May return [a1,a2]\n",
        "#saved_array1 = saved_files['a1']\n",
        "   # now, array in a1 is saved to saved_array1\n",
        "#saved_files.close() // don't forget this!\n"
      ]
    },
    {
      "cell_type": "markdown",
      "id": "f71c9142-0a42-4a20-a6cc-fee726a47127",
      "metadata": {
        "id": "f71c9142-0a42-4a20-a6cc-fee726a47127"
      },
      "source": [
        "# Lambda Functions"
      ]
    },
    {
      "cell_type": "code",
      "execution_count": null,
      "id": "7d14c6b7-13a8-4887-9826-a0da1cbe678b",
      "metadata": {
        "id": "7d14c6b7-13a8-4887-9826-a0da1cbe678b",
        "outputId": "cd56276b-d62e-40de-f9fe-5027107fd5e9"
      },
      "outputs": [
        {
          "name": "stdout",
          "output_type": "stream",
          "text": [
            "Requirement already satisfied: pipe in /opt/anaconda3/lib/python3.12/site-packages (2.2)\n",
            "hello, test\n"
          ]
        }
      ],
      "source": [
        "!pip install pipe\n",
        "from pipe import where,select\n",
        "\n",
        "# Simple lambda function\n",
        "funct1 = lambda input: print(input)\n",
        "\n",
        "funct1('hello, test')"
      ]
    },
    {
      "cell_type": "code",
      "execution_count": null,
      "id": "f0977275-7636-4cd3-9367-4daf9e2d6b9c",
      "metadata": {
        "id": "f0977275-7636-4cd3-9367-4daf9e2d6b9c",
        "outputId": "088c80bb-249a-4f0a-d3b0-34532bad1149"
      },
      "outputs": [
        {
          "data": {
            "text/plain": [
              "[False, True, True]"
            ]
          },
          "execution_count": 32,
          "metadata": {},
          "output_type": "execute_result"
        }
      ],
      "source": [
        "# You can use pipe to make a list-comprehension-type (mapping,filtering) expression\n",
        "\n",
        "array = ['hi','hello','goodbye']\n",
        "\n",
        "list(array| where(lambda x: x.upper()) | select(lambda x: len(x) >2))\n",
        "\n"
      ]
    },
    {
      "cell_type": "code",
      "execution_count": null,
      "id": "8c922227-c393-4321-a7be-9af8082eac36",
      "metadata": {
        "id": "8c922227-c393-4321-a7be-9af8082eac36",
        "outputId": "2d7d93fe-a2a2-4a35-f463-f52b1dc5c1ad"
      },
      "outputs": [
        {
          "data": {
            "text/plain": [
              "32"
            ]
          },
          "execution_count": 34,
          "metadata": {},
          "output_type": "execute_result"
        }
      ],
      "source": [
        "# Define a funct that returns a lambda function.\n",
        "# Calculates number of repetitions based on your repetitions per set.\n",
        "\n",
        "def num_reps(sets):\n",
        "    return lambda reps: sets * reps\n",
        "\n",
        "num_reps_8 = num_reps(4)\n",
        "num_reps_8(8)"
      ]
    },
    {
      "cell_type": "code",
      "execution_count": null,
      "id": "33150e43-42f8-4bba-b8de-38a3c306c209",
      "metadata": {
        "id": "33150e43-42f8-4bba-b8de-38a3c306c209"
      },
      "outputs": [],
      "source": []
    }
  ],
  "metadata": {
    "kernelspec": {
      "display_name": "Python 3 (ipykernel)",
      "language": "python",
      "name": "python3"
    },
    "language_info": {
      "codemirror_mode": {
        "name": "ipython",
        "version": 3
      },
      "file_extension": ".py",
      "mimetype": "text/x-python",
      "name": "python",
      "nbconvert_exporter": "python",
      "pygments_lexer": "ipython3",
      "version": "3.12.4"
    },
    "colab": {
      "provenance": [],
      "include_colab_link": true
    }
  },
  "nbformat": 4,
  "nbformat_minor": 5
}