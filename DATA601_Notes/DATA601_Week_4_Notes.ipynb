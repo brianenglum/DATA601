{
  "cells": [
    {
      "cell_type": "markdown",
      "metadata": {
        "id": "view-in-github",
        "colab_type": "text"
      },
      "source": [
        "<a href=\"https://colab.research.google.com/github/tsnow2010/DATA601/blob/main/DATA601_Notes/DATA601_Week_4_Notes.ipynb\" target=\"_parent\"><img src=\"https://colab.research.google.com/assets/colab-badge.svg\" alt=\"Open In Colab\"/></a>"
      ]
    },
    {
      "cell_type": "markdown",
      "id": "79f4c19b-4b6e-4401-9824-dab40a4c0369",
      "metadata": {
        "id": "79f4c19b-4b6e-4401-9824-dab40a4c0369"
      },
      "source": [
        "# DATA601 Week 4 Notes"
      ]
    },
    {
      "cell_type": "code",
      "execution_count": null,
      "id": "e86810b0-cc8e-41e8-9184-463569a8c10f",
      "metadata": {
        "id": "e86810b0-cc8e-41e8-9184-463569a8c10f",
        "outputId": "5b5f89a0-35b2-4c7b-f4f7-4f2798bc7fdc"
      },
      "outputs": [
        {
          "data": {
            "text/plain": [
              "['__add__',\n",
              " '__class__',\n",
              " '__contains__',\n",
              " '__delattr__',\n",
              " '__dir__',\n",
              " '__doc__',\n",
              " '__eq__',\n",
              " '__format__',\n",
              " '__ge__',\n",
              " '__getattribute__',\n",
              " '__getitem__',\n",
              " '__getnewargs__',\n",
              " '__getstate__',\n",
              " '__gt__',\n",
              " '__hash__',\n",
              " '__init__',\n",
              " '__init_subclass__',\n",
              " '__iter__',\n",
              " '__le__',\n",
              " '__len__',\n",
              " '__lt__',\n",
              " '__mod__',\n",
              " '__mul__',\n",
              " '__ne__',\n",
              " '__new__',\n",
              " '__reduce__',\n",
              " '__reduce_ex__',\n",
              " '__repr__',\n",
              " '__rmod__',\n",
              " '__rmul__',\n",
              " '__setattr__',\n",
              " '__sizeof__',\n",
              " '__str__',\n",
              " '__subclasshook__',\n",
              " 'capitalize',\n",
              " 'casefold',\n",
              " 'center',\n",
              " 'count',\n",
              " 'encode',\n",
              " 'endswith',\n",
              " 'expandtabs',\n",
              " 'find',\n",
              " 'format',\n",
              " 'format_map',\n",
              " 'index',\n",
              " 'isalnum',\n",
              " 'isalpha',\n",
              " 'isascii',\n",
              " 'isdecimal',\n",
              " 'isdigit',\n",
              " 'isidentifier',\n",
              " 'islower',\n",
              " 'isnumeric',\n",
              " 'isprintable',\n",
              " 'isspace',\n",
              " 'istitle',\n",
              " 'isupper',\n",
              " 'join',\n",
              " 'ljust',\n",
              " 'lower',\n",
              " 'lstrip',\n",
              " 'maketrans',\n",
              " 'partition',\n",
              " 'removeprefix',\n",
              " 'removesuffix',\n",
              " 'replace',\n",
              " 'rfind',\n",
              " 'rindex',\n",
              " 'rjust',\n",
              " 'rpartition',\n",
              " 'rsplit',\n",
              " 'rstrip',\n",
              " 'split',\n",
              " 'splitlines',\n",
              " 'startswith',\n",
              " 'strip',\n",
              " 'swapcase',\n",
              " 'title',\n",
              " 'translate',\n",
              " 'upper',\n",
              " 'zfill']"
            ]
          },
          "execution_count": 1,
          "metadata": {},
          "output_type": "execute_result"
        }
      ],
      "source": [
        "# dir(<obj>) is a useful function that tells you all available functions for an object!\n",
        "\n",
        "x = 'hello'\n",
        "\n",
        "dir(x)\n",
        "\n",
        "# The functions with __function__ are for internal use only."
      ]
    },
    {
      "cell_type": "code",
      "execution_count": null,
      "id": "c19712e9-00b7-4028-bbff-2deeb758a1bf",
      "metadata": {
        "id": "c19712e9-00b7-4028-bbff-2deeb758a1bf",
        "outputId": "20af4d8a-ba49-4319-dd7e-58236bf81369"
      },
      "outputs": [
        {
          "name": "stdout",
          "output_type": "stream",
          "text": [
            "The Terminator\n",
            "The Terminator\n",
            "True\n",
            "None\n",
            "Terminator 2\n"
          ]
        }
      ],
      "source": [
        "# Below creates class, Movie, and has one method, __init__.\n",
        "# Below is standard Python procedure when creating a class and creating a constructor method.\n",
        "# Follow this example!\n",
        "\n",
        "class Movie:\n",
        "    pass # this just tells Python not to send a syntax error.\n",
        "    movie_ticket = 8.50 # class variable\n",
        "    origin = 'Domestic'\n",
        "\n",
        "    # All Python classes need this method.\n",
        "    def __init__(self,title, year, imdb, rotn_toma, meta):\n",
        "        self.title = title\n",
        "        self.year = year\n",
        "        self.imdb = imdb\n",
        "        self.rotn_toma = rotn_toma\n",
        "        self.meta = meta\n",
        "        self.num_in_series = 1 # This is a \"defaulter.\"\n",
        "    # 1st customized method.  All methods require \"self\" as 1st param.\n",
        "    def is_good_movie(self):\n",
        "        return True if self.imdb >=8 else False\n",
        "\n",
        "# Are the below \"attributive methods\" allowed?  Or is this something just done in Java?\n",
        "# Answer: Yes, they are allowed, but these methods are superfluous.  Python gives you direct access to attributes.\n",
        "\n",
        "    # An attributive method that would be necessary in Java but is not in Python.\n",
        "    def get_title(self):\n",
        "        return self.title\n",
        "\n",
        "movie1 = Movie(\"The Terminator\",1984,8.2,100,9.1)\n",
        "print(movie1.title)\n",
        "print(movie1.get_title())   # Notice that although \"self\" is a param in the def above, if we use the invoking syntax,\n",
        "                            # the object is in fact being passed as a param.\n",
        "\n",
        "print(movie1.is_good_movie())  # We do the same thing here.  But we could also write it as the below and works as well.\n",
        "# print(Movie.is_good_movie(movie1))\n",
        "print(movie1.origin)\n",
        "\n",
        "# We can make an attribute \"on the spot\" for an object.\n",
        "movie1.sequel = 'Terminator 2'\n",
        "print(movie1.sequel)\n",
        "\n"
      ]
    },
    {
      "cell_type": "code",
      "execution_count": null,
      "id": "9a4a7762-65c1-477c-a09e-e2e8487600b1",
      "metadata": {
        "id": "9a4a7762-65c1-477c-a09e-e2e8487600b1"
      },
      "outputs": [],
      "source": [
        "# Let's see what dir() returns for this new class.\n",
        "print('\\nThe directory of our new class:')\n",
        "dir(movie1)\n",
        "\n",
        "# Notice that Python makes these attributive methods for you automatically."
      ]
    },
    {
      "cell_type": "code",
      "execution_count": null,
      "id": "c5ec5d52-487b-4d06-83b2-3c800b6807c8",
      "metadata": {
        "id": "c5ec5d52-487b-4d06-83b2-3c800b6807c8",
        "outputId": "09ccf990-f24f-4b40-e423-d571eaa2da40"
      },
      "outputs": [
        {
          "name": "stdout",
          "output_type": "stream",
          "text": [
            "Arnold Schwarznegger\n",
            "Arnold Schwarznegger\n"
          ]
        }
      ],
      "source": [
        "# Technically, functions made in a class are called \"methods.\"\n",
        "# Functions are declared outside of a class.\n",
        "\n",
        "# New functions for a class can be defined OUTSIDE the class definition, but they are technically not methods.\n",
        "\n",
        "def print_main_actor(self, actor_name):\n",
        "    self.main_actor_name = actor_name\n",
        "    print(self.main_actor_name)\n",
        "\n",
        "print_main_actor(movie1,'Arnold Schwarznegger')\n",
        "print(movie1.main_actor_name)\n",
        "\n"
      ]
    },
    {
      "cell_type": "code",
      "execution_count": null,
      "id": "960ba0bc-294d-48ef-bb65-7a601b004683",
      "metadata": {
        "id": "960ba0bc-294d-48ef-bb65-7a601b004683",
        "outputId": "15f9cbf9-f14e-4de1-e8aa-30e74f51318f"
      },
      "outputs": [
        {
          "name": "stdout",
          "output_type": "stream",
          "text": [
            "Linda Hamilton\n",
            "Linda Hamilton\n"
          ]
        }
      ],
      "source": [
        "# You could also shorthand new functions using other functions:\n",
        "\n",
        "Movie.print_main_actor_again = print_main_actor\n",
        "movie1.print_main_actor_again('Linda Hamilton')\n",
        "\n",
        "# See that the attribute was changed.\n",
        "print(movie1.main_actor_name)\n",
        "\n",
        "# You can use the same pattern to create a new init function for a class.\n",
        "# For instance:\n",
        "# Movie.__init__ = new_init\n",
        "\n",
        "# But this will throw an error because new_init() function must still be defined and have same params as __init__.\n",
        "# Such a function will override the current function of the class's __init__ function!"
      ]
    },
    {
      "cell_type": "code",
      "execution_count": null,
      "id": "f354d6db-4da5-4c60-af34-93051db8c2b7",
      "metadata": {
        "id": "f354d6db-4da5-4c60-af34-93051db8c2b7",
        "outputId": "f7fd2e97-1b86-4a96-d172-bb924bd97f0d"
      },
      "outputs": [
        {
          "name": "stdout",
          "output_type": "stream",
          "text": [
            " This movie is The Terminator from 1984\n"
          ]
        }
      ],
      "source": [
        "# New shorthand for using format()\n",
        "\n",
        "print(f' This movie is {movie1.title} from {movie1.year}.')"
      ]
    },
    {
      "cell_type": "markdown",
      "id": "948692de-f124-4719-8dc8-05da5c0e33d0",
      "metadata": {
        "id": "948692de-f124-4719-8dc8-05da5c0e33d0"
      },
      "source": [
        "### Class variables\n",
        "\n",
        "* These are NOT class attributes.  They are variables that are associated with a class/object.\n",
        "* 'movie_ticket' above is an example\n",
        "  * can be accessed by Movie.movie_ticket or movie1.movie_ticket.\n"
      ]
    },
    {
      "cell_type": "code",
      "execution_count": null,
      "id": "8d61e3ad-1b86-477c-892b-b3fb7881269e",
      "metadata": {
        "id": "8d61e3ad-1b86-477c-892b-b3fb7881269e",
        "outputId": "3f74ae95-fa81-4009-9a8d-005071296453"
      },
      "outputs": [
        {
          "name": "stdout",
          "output_type": "stream",
          "text": [
            "9.5\n",
            "10.5\n",
            "9.5\n"
          ]
        }
      ],
      "source": [
        "# Like attributes, class variables can be changed (but only for that instance)!\n",
        "\n",
        "movie1.movie_ticket = 9.50\n",
        "print(movie1.movie_ticket)\n",
        "\n",
        "# Therefore, class variables act very similarly to default attributes (if not exactly the same).\n",
        "\n",
        "# Now, let's change the class's variable:\n",
        "\n",
        "Movie.movie_ticket = 10.50\n",
        "print(Movie.movie_ticket)\n",
        "print(movie1.movie_ticket)\n",
        "\n",
        "# Any new instance of movie_ticket will show the change.\n",
        "# But, notice, movie1 instance's version of the class variable remains unchanged."
      ]
    },
    {
      "cell_type": "code",
      "execution_count": null,
      "id": "1ca49636-5321-4fb2-9ef4-1dfb010ac115",
      "metadata": {
        "id": "1ca49636-5321-4fb2-9ef4-1dfb010ac115",
        "outputId": "9611983a-4215-40fb-99d2-acb289f42fed"
      },
      "outputs": [
        {
          "name": "stdout",
          "output_type": "stream",
          "text": [
            "Help on class Foreign_Movie in module __main__:\n",
            "\n",
            "class Foreign_Movie(Movie)\n",
            " |  Foreign_Movie(title, year, imdb, rotn_toma, meta)\n",
            " |\n",
            " |  Method resolution order:\n",
            " |      Foreign_Movie\n",
            " |      Movie\n",
            " |      builtins.object\n",
            " |\n",
            " |  Methods inherited from Movie:\n",
            " |\n",
            " |  __init__(self, title, year, imdb, rotn_toma, meta)\n",
            " |      Initialize self.  See help(type(self)) for accurate signature.\n",
            " |\n",
            " |  get_title(self)\n",
            " |      # An attributive method that would be necessary in Java but is not in Python.\n",
            " |\n",
            " |  is_good_movie(self)\n",
            " |      # 1st customized method.  All methods require \"self\" as 1st param.\n",
            " |\n",
            " |  ----------------------------------------------------------------------\n",
            " |  Data descriptors inherited from Movie:\n",
            " |\n",
            " |  __dict__\n",
            " |      dictionary for instance variables\n",
            " |\n",
            " |  __weakref__\n",
            " |      list of weak references to the object\n",
            " |\n",
            " |  ----------------------------------------------------------------------\n",
            " |  Data and other attributes inherited from Movie:\n",
            " |\n",
            " |  movie_ticket = 8.5\n",
            "\n"
          ]
        }
      ],
      "source": [
        "# Below creates a child class, Foreign_Movie, of Movie.\n",
        "\n",
        "class Foreign_Movie(Movie):\n",
        "    pass\n",
        "    origin = 'Foreign'\n",
        "\n",
        "help(Foreign_Movie)"
      ]
    },
    {
      "cell_type": "code",
      "execution_count": null,
      "id": "8f5e7451-9ce6-4f70-b2b2-e48560559ac0",
      "metadata": {
        "id": "8f5e7451-9ce6-4f70-b2b2-e48560559ac0"
      },
      "outputs": [],
      "source": [
        "# Notice the \"Method Resolution Order\" above.  If you want to supercede this and have a child class use a parent class, use\n",
        "# super().<method> to invoke the parent method."
      ]
    },
    {
      "cell_type": "markdown",
      "id": "c28ac49f-f583-4bc4-9ba6-bebcb768d0ef",
      "metadata": {
        "id": "c28ac49f-f583-4bc4-9ba6-bebcb768d0ef"
      },
      "source": [
        "#### Decorators\n",
        "\n",
        "* There ares to be (3) types of decorators here:\n",
        "  * use @<method> for methods that have a function as its parameter.  your method below is inserted there!  can use multiple decorators.\n",
        "    * bottom up on multiple decorators\n",
        "  * @property: acts like an attributive method in Java\n",
        "  * @classmethod: method accesses class variables, no object needed\n",
        "  * @staticmethod: really only belonging to a class by name, but really only there for convenience.  it only uses global variables."
      ]
    },
    {
      "cell_type": "code",
      "execution_count": null,
      "id": "aae402c0-abbf-4c68-92e9-d139ad13e372",
      "metadata": {
        "id": "aae402c0-abbf-4c68-92e9-d139ad13e372"
      },
      "outputs": [],
      "source": []
    }
  ],
  "metadata": {
    "kernelspec": {
      "display_name": "Python 3 (ipykernel)",
      "language": "python",
      "name": "python3"
    },
    "language_info": {
      "codemirror_mode": {
        "name": "ipython",
        "version": 3
      },
      "file_extension": ".py",
      "mimetype": "text/x-python",
      "name": "python",
      "nbconvert_exporter": "python",
      "pygments_lexer": "ipython3",
      "version": "3.12.4"
    },
    "colab": {
      "provenance": [],
      "include_colab_link": true
    }
  },
  "nbformat": 4,
  "nbformat_minor": 5
}