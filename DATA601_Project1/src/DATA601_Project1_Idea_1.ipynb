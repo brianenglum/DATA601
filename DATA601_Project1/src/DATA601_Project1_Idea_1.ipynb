{
  "cells": [
    {
      "cell_type": "markdown",
      "metadata": {
        "id": "view-in-github",
        "colab_type": "text"
      },
      "source": [
        "<a href=\"https://colab.research.google.com/github/tsnow2010/DATA601/blob/main/DATA601_Project1/DATA601_Project1_Idea_1.ipynb\" target=\"_parent\"><img src=\"https://colab.research.google.com/assets/colab-badge.svg\" alt=\"Open In Colab\"/></a>"
      ]
    },
    {
      "cell_type": "markdown",
      "source": [
        "# DATA601 Project 1, Idea 1\n",
        "\n",
        "#### Purpose: Take titles and years made of all US-made movies from 1972-2016, use OMDB API to get movie ratings from three different sources (IMDB, Rotten Tomatos, and Metacritic), and answer the following questions:\n",
        "> **Questions to be answered:**\n",
        ">\n",
        "> *Which year produced the highest rated movies?*\n",
        ">\n",
        "> *Which decade produced the highest rated movies?*\n",
        ">\n",
        "> *Is the proportion of highly acclaimed movies to mediocre movies going up or down each year?  2010 through 2016 will be analyzed.*\n",
        ">\n",
        "> Other questions?"
      ],
      "metadata": {
        "id": "s_duGkFYNST6"
      },
      "id": "s_duGkFYNST6"
    },
    {
      "cell_type": "markdown",
      "source": [
        "#### What has been done?\n",
        "\n",
        "* Code for pulling required data from API is functional.\n",
        "* Found a .csv file from IMDB that supplies the required data on nearly 10,000 movies produced domestically from 1972-2016.\n",
        "  * It is unconfirmed whether this is an accurate count."
      ],
      "metadata": {
        "id": "IjXiVXoQPlbu"
      },
      "id": "IjXiVXoQPlbu"
    },
    {
      "cell_type": "markdown",
      "source": [
        "#### Script 1:\n",
        "* Provides function **get_movie_ratings** which, given the movie title, year, and api_key, pulls the movie's ratings from IMDB, Rotten Tomatoes, and Metacritic, and writes all this data in a .csv per year of production.  \n",
        "* TO DO: Change code to write data to (1) .csv file versus over (40) files."
      ],
      "metadata": {
        "id": "qzl3Ioc21hRl"
      },
      "id": "qzl3Ioc21hRl"
    },
    {
      "cell_type": "code",
      "execution_count": null,
      "id": "ed9d2bb4-c731-4d47-aaa4-c76e1707638f",
      "metadata": {
        "id": "ed9d2bb4-c731-4d47-aaa4-c76e1707638f",
        "outputId": "5cfd736c-34b5-4910-f501-8a9601af39dd",
        "colab": {
          "base_uri": "https://localhost:8080/"
        }
      },
      "outputs": [
        {
          "output_type": "stream",
          "name": "stdout",
          "text": [
            "http://www.omdbapi.com/?apikey=7a34ecb8&\n",
            "This was written to movies_in_1984.csv: 'The Terminator 8.1 100 84'\n"
          ]
        }
      ],
      "source": [
        "# This script lists functions to make requests to the OMDB API, located at 'http://www.omdbapi.com/?apikey=[yourkey]&', and writes data to a .csv to later analyze\n",
        "# ratings from IMDB, Rotten Tomatos, and Metacritic.\n",
        "import pandas as pd\n",
        "import requests\n",
        "import json\n",
        "import csv\n",
        "\n",
        "# This function requests movie data, at least ratings are expected, for all movies made in a certain year.  It writes the results in 'movies_in_<year>.csv'.\n",
        "\n",
        "def get_movie_ratings(title: str, year: int, api_key: str):\n",
        "    # Assigns API key to API URL\n",
        "    updated_url = 'http://www.omdbapi.com/?apikey={}&'.format(api_key)\n",
        "\n",
        "    print(updated_url)\n",
        "    # Request movie data from title and year made, and return in JSON format.\n",
        "    request_NaJSON = requests.get(updated_url, params={'t': title, 'y': year, 'r': 'json', 'type':'movie'})\n",
        "\n",
        "    # Turns request into JSON format.\n",
        "    request = request_NaJSON.json()\n",
        "\n",
        "    # Look at formatting of dict\n",
        "\n",
        "\n",
        "    # Makes dict with the movie's IMDB rating, Rotten Tomato rating, and Metascore rating.\n",
        "    movie_ratings = {'imbd': request['imdbRating'], 'rotten_tom': str(request['Ratings'][1]['Value'])[:-1], 'metascore': request['Metascore']}\n",
        "\n",
        "    # Opens new .csv file for writing data and names the file by year.  For an example for all movies made domestically in 1984, it will be named 'movies_in_1984'.  File will contain movie data made domestically in one year.\n",
        "    file = open('movies_in_{}.csv'.format(year), 'w')\n",
        "\n",
        "    # Writes title and movie ratings in the order of the dict made above and closes the file.\n",
        "    new_csv = csv.writer(file)\n",
        "    new_csv.writerow([title, movie_ratings['imbd'], movie_ratings['rotten_tom'], movie_ratings['metascore']])\n",
        "    print('This was written to', 'movies_in_{}.csv'.format(year) + ':', \"'\" + title, movie_ratings['imbd'], movie_ratings['rotten_tom'], movie_ratings['metascore'] + \"'\")\n",
        "    file.close()\n",
        "\n",
        "# Test the functionality of method\n",
        "get_movie_ratings(\"The Terminator\", 1984, '7a34ecb8')\n",
        "\n",
        "# Below commented lines can be used for testing.\n",
        "\n",
        "#print(request_NaJSON.url)\n",
        "#print(request_NaJSON.text)\n",
        "print(json.dumps(request, indent = 2))\n",
        "\n",
        "# FOLLOW UP WORK:\n",
        "\n",
        "# Need to get list of domestic movie titles and years made.\n",
        "##### Movie titles and years may be found at https://www.imdb.com/list/ls057823854/?view=compact&sort=user_rating%2Cdesc.\n",
        "\n",
        "#----------------------------------------------------------------------#\n",
        "# Idea for Project 1_DATA 601\n",
        "# CAO 09/08/2024\n",
        "# By: Tyler Snow\n",
        "\n",
        "\n",
        "\n",
        "\n",
        "\n",
        "\n"
      ]
    },
    {
      "cell_type": "markdown",
      "source": [
        "#### Script 2:\n",
        "* Reads 'us_released_movies_1972_to_2016.csv', which contains all domestic movie data from 1972 to 2016 and makes a Panda DataFrame.\n",
        "* TO DO: Use lists produced from the Panda DataFrame and the above code to pull all (3) metrics from the API and write to a single .csv file."
      ],
      "metadata": {
        "id": "1isqTTId2Nyk"
      },
      "id": "1isqTTId2Nyk"
    },
    {
      "cell_type": "code",
      "execution_count": null,
      "id": "a15dd782-c9c4-4d26-9ff2-48059838a882",
      "metadata": {
        "id": "a15dd782-c9c4-4d26-9ff2-48059838a882",
        "colab": {
          "base_uri": "https://localhost:8080/",
          "height": 133
        },
        "outputId": "1de4a9ec-c2d4-4b6a-9c10-0e64689090b6"
      },
      "outputs": [
        {
          "output_type": "execute_result",
          "data": {
            "text/plain": [
              "      Position      Const     Created    Modified Description  \\\n",
              "3624      3625  tt0758743  2013-04-23  2013-04-23         NaN   \n",
              "\n",
              "                         Title            Original Title  \\\n",
              "3624  Dirty Sanchez: The Movie  Dirty Sanchez: The Movie   \n",
              "\n",
              "                                        URL Title Type  IMDb Rating  \\\n",
              "3624  https://www.imdb.com/title/tt0758743/      Movie          6.0   \n",
              "\n",
              "      Runtime (mins)    Year                       Genres  Num Votes  \\\n",
              "3624            94.0  2006.0  Documentary, Action, Comedy       4410   \n",
              "\n",
              "     Release Date   Directors  \n",
              "3624   2006-09-22  Jim Hickey  "
            ],
            "text/html": [
              "\n",
              "  <div id=\"df-3bd6d119-3502-49e7-8c8d-e3448732e353\" class=\"colab-df-container\">\n",
              "    <div>\n",
              "<style scoped>\n",
              "    .dataframe tbody tr th:only-of-type {\n",
              "        vertical-align: middle;\n",
              "    }\n",
              "\n",
              "    .dataframe tbody tr th {\n",
              "        vertical-align: top;\n",
              "    }\n",
              "\n",
              "    .dataframe thead th {\n",
              "        text-align: right;\n",
              "    }\n",
              "</style>\n",
              "<table border=\"1\" class=\"dataframe\">\n",
              "  <thead>\n",
              "    <tr style=\"text-align: right;\">\n",
              "      <th></th>\n",
              "      <th>Position</th>\n",
              "      <th>Const</th>\n",
              "      <th>Created</th>\n",
              "      <th>Modified</th>\n",
              "      <th>Description</th>\n",
              "      <th>Title</th>\n",
              "      <th>Original Title</th>\n",
              "      <th>URL</th>\n",
              "      <th>Title Type</th>\n",
              "      <th>IMDb Rating</th>\n",
              "      <th>Runtime (mins)</th>\n",
              "      <th>Year</th>\n",
              "      <th>Genres</th>\n",
              "      <th>Num Votes</th>\n",
              "      <th>Release Date</th>\n",
              "      <th>Directors</th>\n",
              "    </tr>\n",
              "  </thead>\n",
              "  <tbody>\n",
              "    <tr>\n",
              "      <th>3624</th>\n",
              "      <td>3625</td>\n",
              "      <td>tt0758743</td>\n",
              "      <td>2013-04-23</td>\n",
              "      <td>2013-04-23</td>\n",
              "      <td>NaN</td>\n",
              "      <td>Dirty Sanchez: The Movie</td>\n",
              "      <td>Dirty Sanchez: The Movie</td>\n",
              "      <td>https://www.imdb.com/title/tt0758743/</td>\n",
              "      <td>Movie</td>\n",
              "      <td>6.0</td>\n",
              "      <td>94.0</td>\n",
              "      <td>2006.0</td>\n",
              "      <td>Documentary, Action, Comedy</td>\n",
              "      <td>4410</td>\n",
              "      <td>2006-09-22</td>\n",
              "      <td>Jim Hickey</td>\n",
              "    </tr>\n",
              "  </tbody>\n",
              "</table>\n",
              "</div>\n",
              "    <div class=\"colab-df-buttons\">\n",
              "\n",
              "  <div class=\"colab-df-container\">\n",
              "    <button class=\"colab-df-convert\" onclick=\"convertToInteractive('df-3bd6d119-3502-49e7-8c8d-e3448732e353')\"\n",
              "            title=\"Convert this dataframe to an interactive table.\"\n",
              "            style=\"display:none;\">\n",
              "\n",
              "  <svg xmlns=\"http://www.w3.org/2000/svg\" height=\"24px\" viewBox=\"0 -960 960 960\">\n",
              "    <path d=\"M120-120v-720h720v720H120Zm60-500h600v-160H180v160Zm220 220h160v-160H400v160Zm0 220h160v-160H400v160ZM180-400h160v-160H180v160Zm440 0h160v-160H620v160ZM180-180h160v-160H180v160Zm440 0h160v-160H620v160Z\"/>\n",
              "  </svg>\n",
              "    </button>\n",
              "\n",
              "  <style>\n",
              "    .colab-df-container {\n",
              "      display:flex;\n",
              "      gap: 12px;\n",
              "    }\n",
              "\n",
              "    .colab-df-convert {\n",
              "      background-color: #E8F0FE;\n",
              "      border: none;\n",
              "      border-radius: 50%;\n",
              "      cursor: pointer;\n",
              "      display: none;\n",
              "      fill: #1967D2;\n",
              "      height: 32px;\n",
              "      padding: 0 0 0 0;\n",
              "      width: 32px;\n",
              "    }\n",
              "\n",
              "    .colab-df-convert:hover {\n",
              "      background-color: #E2EBFA;\n",
              "      box-shadow: 0px 1px 2px rgba(60, 64, 67, 0.3), 0px 1px 3px 1px rgba(60, 64, 67, 0.15);\n",
              "      fill: #174EA6;\n",
              "    }\n",
              "\n",
              "    .colab-df-buttons div {\n",
              "      margin-bottom: 4px;\n",
              "    }\n",
              "\n",
              "    [theme=dark] .colab-df-convert {\n",
              "      background-color: #3B4455;\n",
              "      fill: #D2E3FC;\n",
              "    }\n",
              "\n",
              "    [theme=dark] .colab-df-convert:hover {\n",
              "      background-color: #434B5C;\n",
              "      box-shadow: 0px 1px 3px 1px rgba(0, 0, 0, 0.15);\n",
              "      filter: drop-shadow(0px 1px 2px rgba(0, 0, 0, 0.3));\n",
              "      fill: #FFFFFF;\n",
              "    }\n",
              "  </style>\n",
              "\n",
              "    <script>\n",
              "      const buttonEl =\n",
              "        document.querySelector('#df-3bd6d119-3502-49e7-8c8d-e3448732e353 button.colab-df-convert');\n",
              "      buttonEl.style.display =\n",
              "        google.colab.kernel.accessAllowed ? 'block' : 'none';\n",
              "\n",
              "      async function convertToInteractive(key) {\n",
              "        const element = document.querySelector('#df-3bd6d119-3502-49e7-8c8d-e3448732e353');\n",
              "        const dataTable =\n",
              "          await google.colab.kernel.invokeFunction('convertToInteractive',\n",
              "                                                    [key], {});\n",
              "        if (!dataTable) return;\n",
              "\n",
              "        const docLinkHtml = 'Like what you see? Visit the ' +\n",
              "          '<a target=\"_blank\" href=https://colab.research.google.com/notebooks/data_table.ipynb>data table notebook</a>'\n",
              "          + ' to learn more about interactive tables.';\n",
              "        element.innerHTML = '';\n",
              "        dataTable['output_type'] = 'display_data';\n",
              "        await google.colab.output.renderOutput(dataTable, element);\n",
              "        const docLink = document.createElement('div');\n",
              "        docLink.innerHTML = docLinkHtml;\n",
              "        element.appendChild(docLink);\n",
              "      }\n",
              "    </script>\n",
              "  </div>\n",
              "\n",
              "\n",
              "    </div>\n",
              "  </div>\n"
            ],
            "application/vnd.google.colaboratory.intrinsic+json": {
              "type": "dataframe",
              "repr_error": "0"
            }
          },
          "metadata": {},
          "execution_count": 12
        }
      ],
      "source": [
        "df = pd.read_csv('us_released_movies_1972_to_2016.csv')\n",
        "df.sample()\n",
        "#movies_title_list = df['Original Title'].tolist()\n",
        "#movies_release_list = df['Year'].tolist()\n",
        "#movies_genre_list = df['Genres'].tolist()\n",
        "\n",
        "\n",
        "\n"
      ]
    }
  ],
  "metadata": {
    "kernelspec": {
      "display_name": "Python 3 (ipykernel)",
      "language": "python",
      "name": "python3"
    },
    "language_info": {
      "codemirror_mode": {
        "name": "ipython",
        "version": 3
      },
      "file_extension": ".py",
      "mimetype": "text/x-python",
      "name": "python",
      "nbconvert_exporter": "python",
      "pygments_lexer": "ipython3",
      "version": "3.12.4"
    },
    "colab": {
      "provenance": [],
      "include_colab_link": true
    }
  },
  "nbformat": 4,
  "nbformat_minor": 5
}
