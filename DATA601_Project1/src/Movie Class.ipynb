{
  "cells": [
    {
      "cell_type": "code",
      "execution_count": 40,
      "id": "ed9d2bb4-c731-4d47-aaa4-c76e1707638f",
      "metadata": {
        "colab": {
          "base_uri": "https://localhost:8080/"
        },
        "id": "ed9d2bb4-c731-4d47-aaa4-c76e1707638f",
        "outputId": "abf05c67-ab63-43d6-abdb-b81ab4a146bc"
      },
      "outputs": [
        {
          "output_type": "stream",
          "name": "stdout",
          "text": [
            "This was written to movie_ratings.csv: 'The Terminator 8.1 100 84 7.659'\n"
          ]
        }
      ],
      "source": [
        "# This script lists functions to make requests to the OMDB API, located at 'http://www.omdbapi.com/?apikey=[yourkey]&', and writes data to a .csv to later analyze\n",
        "# ratings from IMDB, Rotten Tomatos, and Metacritic.\n",
        "\n",
        "import requests\n",
        "import json\n",
        "import csv\n",
        "\n",
        "# This function requests movie data from the OMDB for all movies made in a certain year.  It writes the results in 'movies_in_<year>.csv'.\n",
        "\n",
        "def get_movie_ratings(title: str, year: int, api_key: str):\n",
        "    # Assigns API key to API URL\n",
        "    OMDB_url = 'http://www.omdbapi.com/?apikey={}&'.format(api_key)\n",
        "    TMDB_url = \"https://api.themoviedb.org/3/search/movie\" #API Key: 8179a3ac6c176723c5d4437365ec76e5.    https://api.themoviedb.org/3/authentication\n",
        "\n",
        "\n",
        "    # Request movie data from OMDB using title and year made, and return in JSON format.\n",
        "    request1 = requests.get(OMDB_url, params={'t': title, 'y': year, 'r': 'json', 'type':'movie'})\n",
        "    request2 = requests.get(TMDB_url, params={'query': title, 'year': year, 'api_key': '8179a3ac6c176723c5d4437365ec76e5'})\n",
        "\n",
        "\n",
        "    # Turns requests into JSON format.\n",
        "    request_JSON1 = request1.json()\n",
        "    request_JSON2 = request2.json()\n",
        "\n",
        "    # Makes dict with the movie's IMDB rating, Rotten Tomato rating, and Metascore rating.\n",
        "    movie_ratings = {'imbd': request_JSON1['imdbRating'], 'rotten_tom': str(request_JSON1['Ratings'][1]['Value'])[:-1], 'metascore': request_JSON1['Metascore'], 'tmdb': request_JSON2['results'][0]['vote_average']}\n",
        "\n",
        "    # Opens new .csv file for writing data and names the file by year.  For an example for all movies made domestically in 1984, it will be named 'movies_in_1984'.  File will contain movie data made domestically in one year.\n",
        "    file = open('movie_ratings.csv', 'w')\n",
        "\n",
        "    # Writes title and movie ratings in the order of the dict made above and closes the file.\n",
        "    new_csv = csv.writer(file)\n",
        "    new_csv.writerow([title, movie_ratings['imbd'], movie_ratings['rotten_tom'], movie_ratings['metascore'], movie_ratings['tmdb']])\n",
        "    print('This was written to', 'movie_ratings.csv' + ':', \"'\" + title, movie_ratings['imbd'], movie_ratings['rotten_tom'], movie_ratings['metascore'], str(movie_ratings['tmdb'])+ \"'\")\n",
        "\n",
        "    # Un-comment below to see the results from the API requests:\n",
        "\n",
        "    #print(json.dumps(request_JSON1, indent=2))\n",
        "    #print(json.dumps(request_JSON2, indent=2))\n",
        "    file.close()\n",
        "\n",
        "# Test the functionality of method\n",
        "get_movie_ratings(\"The Terminator\", 1984, '7a34ecb8')\n",
        "\n",
        "# Below commented lines can be used for testing.\n",
        "\n",
        "#print(request_NaJSON.url)\n",
        "#print(request_NaJSON.text)\n",
        "#print(json.dumps(request, indent = 2))\n",
        "\n",
        "# FOLLOW UP WORK:\n",
        "\n",
        "# Need to get list of domestic movie titles and years made.\n",
        "##### Movie titles and years may be found at https://www.imdb.com/list/ls057823854/?view=compact&sort=user_rating%2Cdesc.\n",
        "\n",
        "#----------------------------------------------------------------------#\n",
        "# Idea for Project 1_DATA 601\n",
        "# CAO 09/08/2024\n",
        "# By: Tyler Snow\n",
        "\n",
        "\n",
        "\n",
        "\n",
        "\n",
        "\n",
        ""
      ]
    }
  ],
  "metadata": {
    "kernelspec": {
      "display_name": "Python 3 (ipykernel)",
      "language": "python",
      "name": "python3"
    },
    "language_info": {
      "codemirror_mode": {
        "name": "ipython",
        "version": 3
      },
      "file_extension": ".py",
      "mimetype": "text/x-python",
      "name": "python",
      "nbconvert_exporter": "python",
      "pygments_lexer": "ipython3",
      "version": "3.12.4"
    },
    "colab": {
      "provenance": []
    }
  },
  "nbformat": 4,
  "nbformat_minor": 5
}