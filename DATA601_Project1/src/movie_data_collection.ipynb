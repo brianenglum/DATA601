{
  "nbformat": 4,
  "nbformat_minor": 0,
  "metadata": {
    "colab": {
      "provenance": [],
      "authorship_tag": "ABX9TyPN5hljodD342B1VgzvbwNb",
      "include_colab_link": true
    },
    "kernelspec": {
      "name": "python3",
      "display_name": "Python 3"
    },
    "language_info": {
      "name": "python"
    }
  },
  "cells": [
    {
      "cell_type": "markdown",
      "metadata": {
        "id": "view-in-github",
        "colab_type": "text"
      },
      "source": [
        "<a href=\"https://colab.research.google.com/github/tsnow2010/DATA601/blob/main/DATA601_Project1/src/movie_data_collection.ipynb\" target=\"_parent\"><img src=\"https://colab.research.google.com/assets/colab-badge.svg\" alt=\"Open In Colab\"/></a>"
      ]
    },
    {
      "cell_type": "markdown",
      "source": [
        "# Create 'movie_data.csv' Using Movie.py"
      ],
      "metadata": {
        "id": "pfDXabFS-e1J"
      }
    },
    {
      "cell_type": "markdown",
      "source": [
        "#### Step 1:\n",
        "Take documenation from Box Office Mojo listing all domestic films made from 2017 to 2023."
      ],
      "metadata": {
        "id": "IOSaowrO_ZZW"
      }
    },
    {
      "cell_type": "code",
      "source": [
        "# Below code creates 'movie_year_from_1972_2023.csv' containing title,year of every domestic movie from 1972-2023.\n",
        "\n",
        "# List of html files of domestic movies by year indicated in name\n",
        "files = ['Domestic Box Office For 2017 - Box Office Mojo.txt',\n",
        "         'Domestic Box Office For 2018 - Box Office Mojo.txt',\n",
        "         'Domestic Box Office For 2019 - Box Office Mojo.txt',\n",
        "         'Domestic Box Office For 2020 - Box Office Mojo.txt',\n",
        "         'Domestic Box Office For 2021 - Box Office Mojo.txt',\n",
        "         'Domestic Box Office For 2022 - Box Office Mojo.txt',\n",
        "         'Domestic Box Office For 2023 - Box Office Mojo.txt']\n",
        "\n"
      ],
      "metadata": {
        "id": "7Uz8To3w-fqz"
      },
      "execution_count": null,
      "outputs": []
    },
    {
      "cell_type": "markdown",
      "source": [
        "#### Step 2:\n",
        "\n",
        "Take large list-taken from IMDB-of domestic films released from 1972 to 2016, pull titles and years, and put data in 'movie_year_from_1972_2023.csv'"
      ],
      "metadata": {
        "id": "bi-prajf_1--"
      }
    },
    {
      "cell_type": "code",
      "source": [
        "# Gets titles and years and writes to 'movie_year_from_1972_2023.csv'\n",
        "Movie.get_titles_from_csv('us_released_movies_1972_to_2016.csv','movie_year_from_1972_2023.csv')\n"
      ],
      "metadata": {
        "id": "sZIrs6FY_0xs"
      },
      "execution_count": null,
      "outputs": []
    },
    {
      "cell_type": "markdown",
      "source": [
        "#### Step 3:\n",
        "\n",
        "Take HTML files from Step 1, pull movie titles and years, and append to 'movie_year_from_1972_2023.csv'"
      ],
      "metadata": {
        "id": "Stx6OuQ_ArWe"
      }
    },
    {
      "cell_type": "code",
      "source": [
        "for item in files:\n",
        "  Movie.get_titles_from_html(item, 'movie_year_from_1972_2023.csv')"
      ],
      "metadata": {
        "id": "BrtTC9nRAqRK"
      },
      "execution_count": null,
      "outputs": []
    },
    {
      "cell_type": "markdown",
      "source": [
        "#### Step 4:\n",
        "\n",
        "With movie_year_from_1972_2023.csv now containing all domestic movies made from 1972 to 2023, the below does the following:\n",
        "\n",
        "* Creates movie_data.csv and writes first row containing column names.\n",
        "* Iterates through each row in movie_year_from_1972_2023, requests movie data from (2) APIs, and appends to movie_data.csv."
      ],
      "metadata": {
        "id": "yHd_n3iJA4Wv"
      }
    },
    {
      "cell_type": "code",
      "source": [
        "# Writes first line of 'movie_data.csv'\n",
        "with open('movie_data.csv','w') as file:\n",
        "    writer = csv.writer(file,delimiter=',')\n",
        "    writer.writerow(['Title',\n",
        "                    'Year',\n",
        "                    'Genre(s)',\n",
        "                    'IMDB',\n",
        "                    'Rotten Tomatoes',\n",
        "                    'Metacritic',\n",
        "                    'TMDB',\n",
        "                    '# of IMDB Votes',\n",
        "                    '# of Awards',\n",
        "                    'Gross Domestic Box Office Sales ($)',\n",
        "                    'Media',\n",
        "                    'Origin'])\n",
        "\n",
        "# Writes actual movie data to 'movie_data.csv'\n",
        "with open('movie_year_from_1972_2023.csv','r',buffering=1) as file:\n",
        "    reader = csv.reader(file,delimiter=',')\n",
        "    next(reader)\n",
        "    for row in reader:\n",
        "        new_movie = Movie(row[0],row[1])\n",
        "        new_movie.get_movie_data()"
      ],
      "metadata": {
        "id": "k4hD-eut_NBh"
      },
      "execution_count": null,
      "outputs": []
    }
  ]
}