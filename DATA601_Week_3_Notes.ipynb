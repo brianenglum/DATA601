{
  "cells": [
    {
      "cell_type": "markdown",
      "metadata": {
        "id": "view-in-github",
        "colab_type": "text"
      },
      "source": [
        "<a href=\"https://colab.research.google.com/github/tsnow2010/DATA601/blob/main/DATA601_Week_3_Notes.ipynb\" target=\"_parent\"><img src=\"https://colab.research.google.com/assets/colab-badge.svg\" alt=\"Open In Colab\"/></a>"
      ]
    },
    {
      "cell_type": "markdown",
      "id": "3f27070d-5392-435e-a341-4d5ac7498091",
      "metadata": {
        "id": "3f27070d-5392-435e-a341-4d5ac7498091"
      },
      "source": [
        "# DATA601 Week 3 Notes"
      ]
    },
    {
      "cell_type": "code",
      "execution_count": null,
      "id": "7f87e6b6-5e85-4445-ab06-05e60a244f4f",
      "metadata": {
        "id": "7f87e6b6-5e85-4445-ab06-05e60a244f4f"
      },
      "outputs": [],
      "source": [
        "# Notice below that the initial assignment of b is maintained even after a() is invoked.\n",
        "\n",
        "b = 20\n",
        "\n",
        "def a():\n",
        "    b = 10\n",
        "    print(b)\n",
        "\n",
        "a()\n",
        "print(b)"
      ]
    },
    {
      "cell_type": "markdown",
      "id": "0ce0bd2d-6b0b-4e9c-a8a4-29ab80826615",
      "metadata": {
        "id": "0ce0bd2d-6b0b-4e9c-a8a4-29ab80826615"
      },
      "source": [
        "### Global variables\n",
        "\n",
        "* Global (kw) variables modify a variable outside current scope.  Globally applied!\n",
        "* *The global kw should be placed in an inner shell (like a function definition).*  Putting global in the main code doesn't do anything.  Try it below!\n",
        "* IOW, the scope of variables within functions is only during the function's UNLESS global or nonlocal kw is used.  (More to follow below.)\n"
      ]
    },
    {
      "cell_type": "code",
      "execution_count": null,
      "id": "3a9cd74c-1b9b-415a-816e-001a27afcdf5",
      "metadata": {
        "id": "3a9cd74c-1b9b-415a-816e-001a27afcdf5"
      },
      "outputs": [],
      "source": [
        "# global b\n",
        "b = 20\n",
        "\n",
        "def c():\n",
        "    # global b\n",
        "    b = 30\n",
        "    print(b)\n",
        "\n",
        "print(b)\n",
        "c()\n",
        "print(b)"
      ]
    },
    {
      "cell_type": "markdown",
      "id": "8c54c035-3031-4416-9577-dd8141f7fe4f",
      "metadata": {
        "id": "8c54c035-3031-4416-9577-dd8141f7fe4f"
      },
      "source": [
        "* Nonlocal kw will extend the scope of variables within nested functions to effect the outer function.  You must use the kw in each subsequent level.  (The kw only effects the current function.)\n",
        "* *Nested functions are only defined in the scope of the next outer function.*"
      ]
    },
    {
      "cell_type": "code",
      "execution_count": null,
      "id": "2d034094-a636-4923-8d45-35b393cda281",
      "metadata": {
        "id": "2d034094-a636-4923-8d45-35b393cda281"
      },
      "outputs": [],
      "source": [
        "def f1():\n",
        "    fx = 5\n",
        "    def f2():\n",
        "        nonlocal fx\n",
        "        fx = 7\n",
        "        print('fx value in f2(): ', fx)\n",
        "\n",
        "        def f3():\n",
        "            fx = 5\n",
        "            print('fx value in f3(): ', fx)\n",
        "        f3()\n",
        "    print('fx value in f1(): ', fx)\n",
        "    print('fx value in f2() invoked in f1(): ', f2())\n",
        "    #print('fx value in f3() invoked in f1(): ', f3())\n",
        "f1()"
      ]
    },
    {
      "cell_type": "markdown",
      "id": "110b8a09-efaf-454f-baa2-83c89054382f",
      "metadata": {
        "id": "110b8a09-efaf-454f-baa2-83c89054382f"
      },
      "source": [
        "* Another useful function is help(some_function).\n",
        "  * This will print param types and other useful information."
      ]
    },
    {
      "cell_type": "code",
      "execution_count": null,
      "id": "1d9cc5b2-fa97-4533-a6c3-8f3368f0d816",
      "metadata": {
        "id": "1d9cc5b2-fa97-4533-a6c3-8f3368f0d816"
      },
      "outputs": [],
      "source": [
        "help(open)\n",
        "help(format)"
      ]
    },
    {
      "cell_type": "markdown",
      "id": "cff1cac9-c8a0-4c64-9875-123a0f520ff2",
      "metadata": {
        "id": "cff1cac9-c8a0-4c64-9875-123a0f520ff2"
      },
      "source": [
        "* Dealing with imaginary numbers can be tricky.  MAKE SURE YOU USE *cmath.sqrt(negative_num)* to avoid errors.\n",
        "* Notice that imaginary numbers are of type complex in Python."
      ]
    },
    {
      "cell_type": "code",
      "execution_count": null,
      "id": "c59b6bb0-19fa-41f5-a58a-636a71968d65",
      "metadata": {
        "id": "c59b6bb0-19fa-41f5-a58a-636a71968d65"
      },
      "outputs": [],
      "source": [
        "import cmath\n",
        "imaginary = cmath.sqrt(-1)\n",
        "print(imaginary)\n",
        "type(imaginary)"
      ]
    },
    {
      "cell_type": "markdown",
      "id": "77ab9173-cd61-4112-8c2f-68eb965de9a1",
      "metadata": {
        "id": "77ab9173-cd61-4112-8c2f-68eb965de9a1"
      },
      "source": [
        "### Flexible Parameterization\n",
        "* The '*' operator (*ARGS)\n",
        "  * When attached to an iterable, such as *a_list, it \"unpacks\" it.  For instance, it is useful to do this in parameters:"
      ]
    },
    {
      "cell_type": "code",
      "execution_count": null,
      "id": "ee4b625e-3c46-434f-a33a-edfacc4d8daf",
      "metadata": {
        "id": "ee4b625e-3c46-434f-a33a-edfacc4d8daf"
      },
      "outputs": [],
      "source": [
        "a_list = [5,6,7]\n",
        "some_dict = {'hi': 'whats up', 'nothing': 'much'}\n",
        "\n",
        "#Notice the formating of the returned values.\n",
        "print(a_list)\n",
        "print(*a_list)\n",
        "\n",
        "# Notice that the * returns the keys of dictionaries.\n",
        "print(*some_dict)\n",
        "print('hi' in some_dict)\n",
        "\n",
        "# This is another way to make a list:\n",
        "\n",
        "*num_list, = 3, 5, 7  # Don't forget the ','!\n",
        "print(num_list)"
      ]
    },
    {
      "cell_type": "markdown",
      "id": "8c960e3c-0e07-48f4-ac4f-8db4c0deb7df",
      "metadata": {
        "id": "8c960e3c-0e07-48f4-ac4f-8db4c0deb7df"
      },
      "source": [
        "* In functions, the '*' allows us to send a \"variable-length\" argument list to the function\".\n",
        "* What this means is that the operator allows multiple parameters to be passed, but when the function is invoked, the elements are packed into a list.\n",
        "* For instance:"
      ]
    },
    {
      "cell_type": "code",
      "execution_count": null,
      "id": "b5600c58-c4dc-41ca-8e79-dbd5065792d8",
      "metadata": {
        "id": "b5600c58-c4dc-41ca-8e79-dbd5065792d8"
      },
      "outputs": [],
      "source": [
        "def sum_nums(*args):\n",
        "    sum = 0\n",
        "    for num in args:\n",
        "        sum += num\n",
        "    return sum\n",
        "\n",
        "# Notice, the function above only has 1 parameter, but we passed 7!\n",
        "sum_nums(4,5,6,7,8,9,10)\n",
        ""
      ]
    },
    {
      "cell_type": "markdown",
      "id": "d7188181-eb65-463d-8f01-7629f61d9130",
      "metadata": {
        "id": "d7188181-eb65-463d-8f01-7629f61d9130"
      },
      "source": [
        "* The '**' operator (**KWARGS) is similar to '*' (*args) but it takes in dictionary elements (**kwargs) and creates a dictionary.\n",
        "* For instance:"
      ]
    },
    {
      "cell_type": "code",
      "execution_count": null,
      "id": "a2ff0248-bf66-4cae-88d8-7f67e786e302",
      "metadata": {
        "id": "a2ff0248-bf66-4cae-88d8-7f67e786e302"
      },
      "outputs": [],
      "source": [
        "def add_nested_dict(org_dict, new_kw, **kwargs):\n",
        "    org_dict[new_kw] = kwargs\n",
        "add_nested_dict(some_dict,'test', hello='whats up', nothing='much')\n",
        "\n",
        "# See that a new nested dictionary was added.\n",
        "print(some_dict)"
      ]
    },
    {
      "cell_type": "markdown",
      "id": "47abf133-23de-4aee-882e-30bd662aaac6",
      "metadata": {
        "id": "47abf133-23de-4aee-882e-30bd662aaac6"
      },
      "source": [
        "### Reading multiple files"
      ]
    },
    {
      "cell_type": "code",
      "execution_count": null,
      "id": "ac95a49d-5069-4944-a21a-06d52ee3738e",
      "metadata": {
        "id": "ac95a49d-5069-4944-a21a-06d52ee3738e"
      },
      "outputs": [],
      "source": [
        "# Below is a method for reading multiple files and printing their contents neatly.\n",
        "\n",
        "import fileinput\n",
        "\n",
        "list_of_files = ['file1.txt','file2.txt','file3.txt']\n",
        "files = fileinput.input(list_of_files)  # Creates a file object that contains all the above files.\n",
        "\n",
        "cur_filename = files.filename() # Holds the name of the first file, but right now, it's actually None.\n",
        "print(cur_filename)\n",
        "\n",
        "for line in files:\n",
        "    if cur_filename != files.filename(): # This will actually be true for the first iteration.\n",
        "        cur_filename = files.filename() # cur_filename will be assigned the first file BECAUSE a line is being iterated through\n",
        "        print('*********')\n",
        "        print(cur_filename)\n",
        "        print('*********')\n",
        "    print(line) # This will now run for each line, until we get to the next file.\n",
        "'''\n",
        ""
      ]
    },
    {
      "cell_type": "markdown",
      "id": "788f0663-79dd-476a-8a68-4c25d1898b00",
      "metadata": {
        "id": "788f0663-79dd-476a-8a68-4c25d1898b00"
      },
      "source": [
        "### Working with .csv files"
      ]
    },
    {
      "cell_type": "markdown",
      "id": "eeb6df1f-5864-4a94-9477-34eb8bb19858",
      "metadata": {
        "id": "eeb6df1f-5864-4a94-9477-34eb8bb19858"
      },
      "source": [
        "#### Reading csv files"
      ]
    },
    {
      "cell_type": "code",
      "execution_count": null,
      "id": "e1acf778-cc33-4d7c-a1e4-d2509faf5478",
      "metadata": {
        "id": "e1acf778-cc33-4d7c-a1e4-d2509faf5478"
      },
      "outputs": [],
      "source": [
        "import csv\n",
        "file = open('my_csv.csv', newline='')\n",
        "reader = csv.reader(f, delimiter=',', quoting=csv.QUOTE.NONNUMERIC)  # This keeps the values from being converted to str.  IOW, if\n",
        "                                                                        # this param is removed, values would be of type str.\n",
        "\n",
        "for row in reader:\n",
        "    print('****')\n",
        "    for value in row:\n",
        "        print(value, 'type:', type(value)"
      ]
    },
    {
      "cell_type": "code",
      "execution_count": null,
      "id": "eca9095e-886e-4e71-bb6b-b06755012322",
      "metadata": {
        "id": "eca9095e-886e-4e71-bb6b-b06755012322"
      },
      "outputs": [],
      "source": [
        "* Another example:"
      ]
    },
    {
      "cell_type": "code",
      "execution_count": null,
      "id": "70874e3f-7a0f-40a8-93d8-41afd25a51f9",
      "metadata": {
        "id": "70874e3f-7a0f-40a8-93d8-41afd25a51f9"
      },
      "outputs": [],
      "source": [
        "with open('my_csv.csv') as csvfile:  # Basically same as file = open('my_csv.csv', newline=''),\n",
        "                                     # but it expects a for loop and the file closes on its own!\n",
        "    readCSV = csv.reader(csvfile, delimiter=',')\n",
        "    fns, lns, adds, states, phone_nums = [], [], [], [], []. #good way to initialize and assign elements in a list\n",
        "\n",
        "    for row in readCSV:\n",
        "\n",
        "        # Temporarily store row data in variables\n",
        "        fn, ln, add = row[0], row[1], row[2]\n",
        "        state, phone_num = row[3], row[4]\n",
        "\n",
        "        # Add elements to lists.\n",
        "        fns.append(fn)\n",
        "        lns.append(ln)\n",
        "        adds.append(add)\n",
        "        states.append(state)\n",
        "        phone_nums.append(phone_num)\n",
        "\n",
        ""
      ]
    },
    {
      "cell_type": "markdown",
      "id": "15047ef1-4a43-4428-b728-71b4f5898c99",
      "metadata": {
        "id": "15047ef1-4a43-4428-b728-71b4f5898c99"
      },
      "source": [
        "#### Writing to csv files\n",
        "* Consider only using 'reader' and 'writer' for the .writer() and .reader() return variables."
      ]
    },
    {
      "cell_type": "code",
      "execution_count": null,
      "id": "775b48d1-c7be-414a-beb4-f8ea8779504f",
      "metadata": {
        "id": "775b48d1-c7be-414a-beb4-f8ea8779504f"
      },
      "outputs": [],
      "source": [
        "# We add the below code to write to csv.\n",
        "\n",
        "# Notice the (1) open() and (2) object creation pattern.\n",
        "with open('my_csv.csv') as csvfile:\n",
        "    readCSV = csv.reader(csvfile, delimiter=',')\n",
        "\n",
        "    f2 = open('csv_to_read.csv', 'w')\n",
        "    writer = csv.writer(f2, delimiter=',') # Notice this is now csv.writer()\n",
        "\n",
        "\n",
        "\n",
        "    fns, lns, adds, states, phone_nums = [], [], [], [], []\n",
        "\n",
        "    fns, lns, adds, states, phone_nums = [], [], [], [], []\n",
        "\n",
        "    for row in readCSV:\n",
        "        fn, ln, add = row[0], row[1], row[2]\n",
        "        state, phone_num = row[3], row[4]\n",
        "\n",
        "        # Now, we write instead of appending.\n",
        "        data2write = [fn, ln, add, state, phone_num] # This could also be a tuple.\n",
        "        writer.writerow(data2write) # The iterable above is written to 'writeCSV'.\n",
        "close(f2)\n",
        "\n",
        "\n",
        ""
      ]
    },
    {
      "cell_type": "markdown",
      "id": "d7344dfa-3990-4af6-ac90-57813a892924",
      "metadata": {
        "id": "d7344dfa-3990-4af6-ac90-57813a892924"
      },
      "source": [
        "### JSON\n",
        "* A couple tips:\n",
        "  * Keep keys and values as type=str.  Otherwise, you may encounter errors!"
      ]
    },
    {
      "cell_type": "code",
      "execution_count": null,
      "id": "74ee0807-0fd3-4873-92be-181e2aaa10dd",
      "metadata": {
        "id": "74ee0807-0fd3-4873-92be-181e2aaa10dd"
      },
      "outputs": [],
      "source": [
        "# To write to a .json file, use the following:\n",
        "\n",
        "import json\n",
        "\n",
        "some_oth_dict = {}\n",
        "\n",
        "# Fill in dictionary.\n",
        "\n",
        "with open('some_json.json', 'w') as json_file:\n",
        "    # DON'T CONFUSE WITH json.dumps()\n",
        "    json.dump(some_oth_dict, json_file) # This only takes (1) dictionary or (1) list of dictionaries."
      ]
    },
    {
      "cell_type": "code",
      "execution_count": null,
      "id": "f409ce06-8cc5-4658-81de-5c8a741ccd1f",
      "metadata": {
        "id": "f409ce06-8cc5-4658-81de-5c8a741ccd1f"
      },
      "outputs": [],
      "source": [
        "# To load from a .json file, use the following:\n",
        "\n",
        "import json\n",
        "with open('some_json.json', 'r') as json_file:\n",
        "    # DON'T CONFUSE WITH json.loads()\n",
        "    data = json.load(json_file) # This only takes (1) dictionary or (1) list of dictionaries."
      ]
    },
    {
      "cell_type": "markdown",
      "id": "3857ed7e-7aed-4755-89c1-c1f45f724f2e",
      "metadata": {
        "id": "3857ed7e-7aed-4755-89c1-c1f45f724f2e"
      },
      "source": [
        "#### Operating System"
      ]
    },
    {
      "cell_type": "code",
      "execution_count": null,
      "id": "8f3ea9da-c660-433d-af9b-6f4ec26be593",
      "metadata": {
        "id": "8f3ea9da-c660-433d-af9b-6f4ec26be593"
      },
      "outputs": [],
      "source": [
        "# Common commands\n",
        "\n",
        "os.system()\n",
        "os.system('mkdir any_folder') # Makes new folder called, any_folder.\n",
        "os.chdir('./..') # Goes to one directory up from current level.\n"
      ]
    },
    {
      "cell_type": "code",
      "execution_count": null,
      "id": "6bec87bf-f76b-4124-b3c8-ba329b2d9bfa",
      "metadata": {
        "id": "6bec87bf-f76b-4124-b3c8-ba329b2d9bfa"
      },
      "outputs": [],
      "source": [
        "import os\n",
        "os.getcwd()\n",
        "os.chdir('/Users/snowgtyler/Desktop')\n",
        "os.getcwd()\n",
        "os.listdir(path='.') # ls dir command, the path param is optional here\n",
        "\n",
        "os.system('mkdir hello!') # makes a folder named 'hello!' in the cwd\n",
        "os.chdir('./hello!') # Notice shorthand for param.  This goes to folder, hello!, which was in the cwd\n",
        "os.getcwd()\n",
        "os.chdir('./..') #goes up one directory\n",
        "os.getcwd()\n"
      ]
    },
    {
      "cell_type": "code",
      "execution_count": null,
      "id": "2fd11554-fcc7-4fb1-8776-a624a12c8074",
      "metadata": {
        "id": "2fd11554-fcc7-4fb1-8776-a624a12c8074"
      },
      "outputs": [],
      "source": [
        "os.environ[\"PATH\"]"
      ]
    },
    {
      "cell_type": "markdown",
      "id": "1f452279-a978-4c96-81e9-0c85da9b62c2",
      "metadata": {
        "id": "1f452279-a978-4c96-81e9-0c85da9b62c2"
      },
      "source": [
        "#### Pathlib"
      ]
    },
    {
      "cell_type": "code",
      "execution_count": null,
      "id": "e7c1c48a-d89e-47eb-bdfd-41099fd5a6c0",
      "metadata": {
        "id": "e7c1c48a-d89e-47eb-bdfd-41099fd5a6c0"
      },
      "outputs": [],
      "source": [
        "# Here's another way to get directories:\n",
        "\n",
        "import pathlib\n",
        "p = pathlib.Path('.') # Current directory\n",
        "for x in p.iterdir(): # iterdir() makes list of directories in p\n",
        "    if x.is_dir(): # True if a directory\n",
        "        print(x)"
      ]
    },
    {
      "cell_type": "markdown",
      "id": "04de96a3-76a1-4de2-ae2f-a53747f11245",
      "metadata": {
        "id": "04de96a3-76a1-4de2-ae2f-a53747f11245"
      },
      "source": [
        "#### String Interpolation"
      ]
    },
    {
      "cell_type": "code",
      "execution_count": null,
      "id": "2949b5ef-4e80-47a9-b413-2ee0f23b70e5",
      "metadata": {
        "id": "2949b5ef-4e80-47a9-b413-2ee0f23b70e5"
      },
      "outputs": [],
      "source": [
        "flt = 111156.18398778\n",
        "print('This is a float: %5.3f.' % flt)"
      ]
    },
    {
      "cell_type": "code",
      "execution_count": null,
      "id": "6fe154ec-fbfc-424b-a44f-3b7bd297c32b",
      "metadata": {
        "id": "6fe154ec-fbfc-424b-a44f-3b7bd297c32b"
      },
      "outputs": [],
      "source": []
    },
    {
      "cell_type": "markdown",
      "id": "7ecda151-9507-4ce9-8e7d-9eedce65b96f",
      "metadata": {
        "id": "7ecda151-9507-4ce9-8e7d-9eedce65b96f"
      },
      "source": [
        "#### Glob"
      ]
    },
    {
      "cell_type": "code",
      "execution_count": null,
      "id": "2732d80d-d846-4758-87fd-73994e8295a6",
      "metadata": {
        "id": "2732d80d-d846-4758-87fd-73994e8295a6"
      },
      "outputs": [],
      "source": [
        "import glob\n",
        "glob.glob('**/*.txt', recursive=True) #Lists all files in this folder and subfolders!"
      ]
    },
    {
      "cell_type": "code",
      "execution_count": null,
      "id": "99ac7396-0371-4b2b-84c1-5004b31d9fb3",
      "metadata": {
        "id": "99ac7396-0371-4b2b-84c1-5004b31d9fb3"
      },
      "outputs": [],
      "source": [
        "\n",
        "f = open('some_file.txt','r')\n",
        "f.seek() # takes integer and goes to character #66 in a file.\n",
        "line = f.readline() # will read line from character #66\n"
      ]
    },
    {
      "cell_type": "code",
      "execution_count": null,
      "id": "8ce739f3-1a3c-4528-9048-b964e171e959",
      "metadata": {
        "id": "8ce739f3-1a3c-4528-9048-b964e171e959"
      },
      "outputs": [],
      "source": [
        "char = chr(112) # char() returns ASCII value\n",
        "print(char)\n",
        "\n",
        "print(ord('d')) # opposite of chr()\n"
      ]
    },
    {
      "cell_type": "markdown",
      "id": "b0dbc1d1-c9b5-4d13-9562-44a3b596a976",
      "metadata": {
        "id": "b0dbc1d1-c9b5-4d13-9562-44a3b596a976"
      },
      "source": [
        "#### Reading binary files"
      ]
    },
    {
      "cell_type": "code",
      "execution_count": null,
      "id": "7d7e3b71-01d5-4f7a-bd32-ada447ba7305",
      "metadata": {
        "id": "7d7e3b71-01d5-4f7a-bd32-ada447ba7305"
      },
      "outputs": [],
      "source": [
        "import hashlib\n",
        "\n",
        "f = open('a_file_to_read.exe', 'rb')\n",
        "x = f.read() # will be in bytes\n",
        "\n",
        "md5_value = hashlib.md5(x).hexdigest()\n",
        "print('The MD5 checksum value is: ', md5_value) # gives checksum of binary file,\n",
        "f.close()"
      ]
    },
    {
      "cell_type": "code",
      "execution_count": null,
      "id": "f3128d8a-22f4-4e5f-a4b6-4201e149c2d5",
      "metadata": {
        "id": "f3128d8a-22f4-4e5f-a4b6-4201e149c2d5"
      },
      "outputs": [],
      "source": []
    }
  ],
  "metadata": {
    "kernelspec": {
      "display_name": "Python 3 (ipykernel)",
      "language": "python",
      "name": "python3"
    },
    "language_info": {
      "codemirror_mode": {
        "name": "ipython",
        "version": 3
      },
      "file_extension": ".py",
      "mimetype": "text/x-python",
      "name": "python",
      "nbconvert_exporter": "python",
      "pygments_lexer": "ipython3",
      "version": "3.12.4"
    },
    "colab": {
      "provenance": [],
      "include_colab_link": true
    }
  },
  "nbformat": 4,
  "nbformat_minor": 5
}