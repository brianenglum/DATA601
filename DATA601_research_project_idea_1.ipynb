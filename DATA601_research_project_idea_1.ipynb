{
 "cells": [
  {
   "cell_type": "code",
   "execution_count": 17,
   "id": "ed9d2bb4-c731-4d47-aaa4-c76e1707638f",
   "metadata": {},
   "outputs": [
    {
     "name": "stdout",
     "output_type": "stream",
     "text": [
      "http://www.omdbapi.com/?apikey=7a34ecb8&\n",
      "This was written to movies_in_1984.csv: 'The Terminator 8.1 100 84'\n"
     ]
    }
   ],
   "source": [
    "# This script lists functions to make requests to the OMDB API, located at 'http://www.omdbapi.com/?apikey=[yourkey]&', and writes data to a .csv to later analyze\n",
    "# ratings from IMDB, Rotten Tomatos, and Metacritic.\n",
    "\n",
    "import requests\n",
    "import json\n",
    "import csv\n",
    "\n",
    "# This function requests movie data, at least ratings are expected, for all movies made in a certain year.  It writes the results in 'movies_in_<year>.csv'.\n",
    "\n",
    "def get_movie_ratings(title: str, year: int, api_key: str):\n",
    "    # Assigns API key to API URL\n",
    "    updated_url = 'http://www.omdbapi.com/?apikey={}&'.format(api_key)\n",
    "    \n",
    "    print(updated_url)\n",
    "    # Request movie data from title and year made, and return in JSON format.\n",
    "    request_NaJSON = requests.get(updated_url, params={'t': title, 'y': year, 'r': 'json', 'type':'movie'})\n",
    "    \n",
    "    # Turns request into JSON format.\n",
    "    request = request_NaJSON.json()\n",
    "\n",
    "    # Look at formatting of dict\n",
    "  \n",
    "\n",
    "    # Makes dict with the movie's IMDB rating, Rotten Tomato rating, and Metascore rating.\n",
    "    movie_ratings = {'imbd': request['imdbRating'], 'rotten_tom': str(request['Ratings'][1]['Value'])[:-1], 'metascore': request['Metascore']}\n",
    "    \n",
    "    # Opens new .csv file for writing data and names the file by year.  For an example for all movies made domestically in 1984, it will be named 'movies_in_1984'.  File will contain movie data made domestically in one year.\n",
    "    file = open('movies_in_{}.csv'.format(year), 'w')\n",
    "\n",
    "    # Writes title and movie ratings in the order of the dict made above and closes the file.\n",
    "    new_csv = csv.writer(file)\n",
    "    new_csv.writerow([title, movie_ratings['imbd'], movie_ratings['rotten_tom'], movie_ratings['metascore']])\n",
    "    print('This was written to', 'movies_in_{}.csv'.format(year) + ':', \"'\" + title, movie_ratings['imbd'], movie_ratings['rotten_tom'], movie_ratings['metascore'] + \"'\")\n",
    "    file.close()\n",
    "\n",
    "# Test the functionality of method\n",
    "get_movie_ratings(\"The Terminator\", 1984, '7a34ecb8')\n",
    "\n",
    "# Below commented lines can be used for testing.\n",
    "\n",
    "#print(request_NaJSON.url)\n",
    "#print(request_NaJSON.text)\n",
    "#print(json.dumps(request, indent = 2))\n",
    "\n",
    "# FOLLOW UP WORK:\n",
    "\n",
    "# Need to get list of domestic movie titles and years made.\n",
    "##### Movie titles and years may be found at https://www.imdb.com/list/ls057823854/?view=compact&sort=user_rating%2Cdesc.\n",
    "\n",
    "#----------------------------------------------------------------------#\n",
    "# Idea for Project 1_DATA 601\n",
    "# CAO 09/08/2024\n",
    "# By: Tyler Snow\n",
    "\n",
    "\n",
    "\n",
    "\n",
    "\n",
    "                   \n",
    "    "
   ]
  },
  {
   "cell_type": "code",
   "execution_count": null,
   "id": "a15dd782-c9c4-4d26-9ff2-48059838a882",
   "metadata": {},
   "outputs": [],
   "source": []
  }
 ],
 "metadata": {
  "kernelspec": {
   "display_name": "Python 3 (ipykernel)",
   "language": "python",
   "name": "python3"
  },
  "language_info": {
   "codemirror_mode": {
    "name": "ipython",
    "version": 3
   },
   "file_extension": ".py",
   "mimetype": "text/x-python",
   "name": "python",
   "nbconvert_exporter": "python",
   "pygments_lexer": "ipython3",
   "version": "3.12.4"
  }
 },
 "nbformat": 4,
 "nbformat_minor": 5
}
